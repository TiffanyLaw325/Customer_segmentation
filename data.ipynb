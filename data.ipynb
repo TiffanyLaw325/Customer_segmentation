{
 "cells": [
  {
   "cell_type": "markdown",
   "metadata": {},
   "source": [
    "# **Customer Segmentation**"
   ]
  },
  {
   "cell_type": "markdown",
   "metadata": {},
   "source": [
    "# Use Case\n",
    "\n",
    "- Use Case Summary\n",
    "- Objective Statement:\n",
    "  * Get business insight about Revenue per member, Sessions per visitor, Average order value, Traffic, Visit per visitor and Add to cart rate (by country and by gender) per country in the first year of 2021.\n",
    "  * To increase marketing efficiency by directing effort specifically toward the designated segment in a manner consistent with that segment’s characteristics.\n",
    "\n",
    "- Methodology / Analytic Technique:\n",
    "  * Descriptive analysis\n",
    "  * Graph analysis\n",
    "  * Segment Analysis\n",
    "\n",
    "- Business Benefit:\n",
    "  * Helping Business Development Team to create product differentiation based on the characteristic for each customer.\n",
    "  * Know how to treat customer with specific criteria.\n",
    "\n",
    "- Expected Outcome:\n",
    "  * Know about Revenue per member, Sessions per visitor, Average order value, Traffic, Visit per visitor and Add to cart rate (by country and by gender)\n",
    "  * Customer segmentation analysis.\n",
    "  * Recommendation based on customer segmentation.\n",
    "\n",
    "\n",
    "\n",
    "\n",
    "\n",
    "\n"
   ]
  },
  {
   "cell_type": "markdown",
   "metadata": {},
   "source": [
    "# Business Understanding\n",
    "\n",
    "- Retail is the process of selling consumer goods or services to customers through multiple channels of distribution to earn a profit.\n",
    "- This case has some business questions using the data:\n",
    "- Revenue per member\n",
    "- sessions per visitor\n",
    "- Average order value\n",
    "- Traffic\n",
    "- Visit per visitor\n",
    "- Add to cart rate (by country and by gender)"
   ]
  },
  {
   "cell_type": "markdown",
   "metadata": {},
   "source": [
    "# Data Understanding\n",
    "\n",
    "- Data of Retail Transaction from 01 January 2021 to 31 May 2021\n",
    "- Data Dictionary:\n",
    "- (1) Data: Transaction data from a fashion retail company in Canada.\n",
    "    - orderId: Order (item) code.\n",
    "    - MemberId: Member code.\n",
    "    - id_discounted_order: 1 if the order is discounted.\n",
    "    - Gross_revenue: Revenue of the order.\n",
    "    - gross_revenue_before_discount\t: Revenue before discount.\n",
    "    - sum_units_sold: Number of nnits sold in the order.\n",
    "    - sum_units_returned: Number of units returned in the order.\n",
    "    \n",
    "\n",
    "- (2) Data: Session data from a fashion retail website.\n",
    "    - visitId: visiter unique code for each visit.\n",
    "    - fullVisitorId: full visiter Code.\n",
    "    - date: the date visitor visit the website.\n",
    "    - memberId: Member code.\n",
    "    - is_newsletter_subscriber: if the visitor is a newsletter subscriber.\n",
    "    - newsletter_gender_communication_preference: gender predictions by newsletter.\n",
    "    - country_from_ip: visitors come from Canada, US or other countries.\n",
    "    - platform: visitors browse the website by website or iOS App\n",
    "    - traffic_channel: affilliate, owned or paid for the traffic \n",
    "    - language_visit: lanuages used in the website.\n",
    "    - orderId: order code if they have bought products.\n",
    "    - sum_pdp_menswear_views: sum of \"menswear\" viewed.\n",
    "    - sum_pdp_womenswear_views: sum of \"womenswear\" viewed.\n",
    "    - sum_pdp_everythingelse_views: sum of \"everythingelse\" viewed.\n",
    "    - sum_addtocart_menswear:sum of \"menswear\" added to cart.\n",
    "    - sum_addtocart_womenswear: sum of \"womenswear\" added to cart.\n",
    "    - sum_addtocart_everythingelse: sum of \"everythingelse\" added to cart.\n",
    "    - sum_addtowishlist: sum of the products added to wishlist."
   ]
  },
  {
   "cell_type": "code",
   "execution_count": 245,
   "metadata": {},
   "outputs": [],
   "source": [
    "import pandas as pd\n",
    "import numpy as np\n",
    "import matplotlib.pyplot as plt\n",
    "import seaborn as sns\n",
    "\n",
    "import datetime as dt\n",
    "\n",
    "import feature_engine\n",
    "from feature_engine.outliers import Winsorizer\n",
    "\n",
    "from scipy import stats\n",
    "from sklearn.preprocessing import StandardScaler\n",
    "from sklearn.manifold import TSNE\n",
    "\n",
    "\n",
    "from sklearn.cluster import KMeans\n",
    "from sklearn.cluster import AgglomerativeClustering\n",
    "import scipy.cluster.hierarchy as sch\n",
    "from sklearn.metrics import davies_bouldin_score"
   ]
  },
  {
   "cell_type": "code",
   "execution_count": 246,
   "metadata": {},
   "outputs": [],
   "source": [
    "session = pd.read_csv(\"sessiondata.csv\")\n",
    "transaction = pd.read_csv(\"transactiondata.csv\")"
   ]
  },
  {
   "cell_type": "code",
   "execution_count": 247,
   "metadata": {},
   "outputs": [
    {
     "data": {
      "text/html": [
       "<div>\n",
       "<style scoped>\n",
       "    .dataframe tbody tr th:only-of-type {\n",
       "        vertical-align: middle;\n",
       "    }\n",
       "\n",
       "    .dataframe tbody tr th {\n",
       "        vertical-align: top;\n",
       "    }\n",
       "\n",
       "    .dataframe thead th {\n",
       "        text-align: right;\n",
       "    }\n",
       "</style>\n",
       "<table border=\"1\" class=\"dataframe\">\n",
       "  <thead>\n",
       "    <tr style=\"text-align: right;\">\n",
       "      <th></th>\n",
       "      <th>visitId</th>\n",
       "      <th>fullVisitorId</th>\n",
       "      <th>date</th>\n",
       "      <th>memberId</th>\n",
       "      <th>is_newsletter_subscriber</th>\n",
       "      <th>newsletter_gender_communication_preference</th>\n",
       "      <th>country_from_ip</th>\n",
       "      <th>platform</th>\n",
       "      <th>traffic_channel</th>\n",
       "      <th>language_visit</th>\n",
       "      <th>orderId</th>\n",
       "      <th>sum_pdp_menswear_views</th>\n",
       "      <th>sum_pdp_womenswear_views</th>\n",
       "      <th>sum_pdp_everythingelse_views</th>\n",
       "      <th>sum_addtocart_menswear</th>\n",
       "      <th>sum_addtocart_womenswear</th>\n",
       "      <th>sum_addtocart_everythingelse</th>\n",
       "      <th>sum_addtowishlist</th>\n",
       "    </tr>\n",
       "  </thead>\n",
       "  <tbody>\n",
       "    <tr>\n",
       "      <th>0</th>\n",
       "      <td>3243274018916053492-1609526734</td>\n",
       "      <td>3243274018916050000</td>\n",
       "      <td>2021-01-01</td>\n",
       "      <td>196608</td>\n",
       "      <td>no</td>\n",
       "      <td>Womenswear</td>\n",
       "      <td>Canada</td>\n",
       "      <td>Website</td>\n",
       "      <td>Paid</td>\n",
       "      <td>English</td>\n",
       "      <td>NaN</td>\n",
       "      <td>3</td>\n",
       "      <td>0</td>\n",
       "      <td>0</td>\n",
       "      <td>0</td>\n",
       "      <td>0</td>\n",
       "      <td>0</td>\n",
       "      <td>0</td>\n",
       "    </tr>\n",
       "    <tr>\n",
       "      <th>1</th>\n",
       "      <td>3243274018916053492-1609546562</td>\n",
       "      <td>3243274018916050000</td>\n",
       "      <td>2021-01-01</td>\n",
       "      <td>196608</td>\n",
       "      <td>no</td>\n",
       "      <td>Womenswear</td>\n",
       "      <td>Canada</td>\n",
       "      <td>iOS App</td>\n",
       "      <td>Paid</td>\n",
       "      <td>English</td>\n",
       "      <td>NaN</td>\n",
       "      <td>1</td>\n",
       "      <td>0</td>\n",
       "      <td>0</td>\n",
       "      <td>0</td>\n",
       "      <td>0</td>\n",
       "      <td>0</td>\n",
       "      <td>0</td>\n",
       "    </tr>\n",
       "    <tr>\n",
       "      <th>2</th>\n",
       "      <td>3243274018916053492-1609685900</td>\n",
       "      <td>3243274018916050000</td>\n",
       "      <td>2021-01-03</td>\n",
       "      <td>196608</td>\n",
       "      <td>no</td>\n",
       "      <td>Womenswear</td>\n",
       "      <td>Canada</td>\n",
       "      <td>iOS App</td>\n",
       "      <td>Paid</td>\n",
       "      <td>English</td>\n",
       "      <td>NaN</td>\n",
       "      <td>0</td>\n",
       "      <td>0</td>\n",
       "      <td>0</td>\n",
       "      <td>0</td>\n",
       "      <td>0</td>\n",
       "      <td>0</td>\n",
       "      <td>0</td>\n",
       "    </tr>\n",
       "    <tr>\n",
       "      <th>3</th>\n",
       "      <td>3243274018916053492-1609693282</td>\n",
       "      <td>3243274018916050000</td>\n",
       "      <td>2021-01-03</td>\n",
       "      <td>196608</td>\n",
       "      <td>no</td>\n",
       "      <td>Womenswear</td>\n",
       "      <td>Canada</td>\n",
       "      <td>Website</td>\n",
       "      <td>Paid</td>\n",
       "      <td>English</td>\n",
       "      <td>NaN</td>\n",
       "      <td>1</td>\n",
       "      <td>0</td>\n",
       "      <td>0</td>\n",
       "      <td>0</td>\n",
       "      <td>0</td>\n",
       "      <td>0</td>\n",
       "      <td>0</td>\n",
       "    </tr>\n",
       "    <tr>\n",
       "      <th>4</th>\n",
       "      <td>3243274018916053492-1609702977</td>\n",
       "      <td>3243274018916050000</td>\n",
       "      <td>2021-01-03</td>\n",
       "      <td>196608</td>\n",
       "      <td>no</td>\n",
       "      <td>Womenswear</td>\n",
       "      <td>Canada</td>\n",
       "      <td>Website</td>\n",
       "      <td>Paid</td>\n",
       "      <td>English</td>\n",
       "      <td>NaN</td>\n",
       "      <td>0</td>\n",
       "      <td>0</td>\n",
       "      <td>0</td>\n",
       "      <td>0</td>\n",
       "      <td>0</td>\n",
       "      <td>0</td>\n",
       "      <td>0</td>\n",
       "    </tr>\n",
       "  </tbody>\n",
       "</table>\n",
       "</div>"
      ],
      "text/plain": [
       "                          visitId        fullVisitorId        date  memberId  \\\n",
       "0  3243274018916053492-1609526734  3243274018916050000  2021-01-01    196608   \n",
       "1  3243274018916053492-1609546562  3243274018916050000  2021-01-01    196608   \n",
       "2  3243274018916053492-1609685900  3243274018916050000  2021-01-03    196608   \n",
       "3  3243274018916053492-1609693282  3243274018916050000  2021-01-03    196608   \n",
       "4  3243274018916053492-1609702977  3243274018916050000  2021-01-03    196608   \n",
       "\n",
       "  is_newsletter_subscriber newsletter_gender_communication_preference  \\\n",
       "0                       no                                 Womenswear   \n",
       "1                       no                                 Womenswear   \n",
       "2                       no                                 Womenswear   \n",
       "3                       no                                 Womenswear   \n",
       "4                       no                                 Womenswear   \n",
       "\n",
       "  country_from_ip platform traffic_channel language_visit  orderId  \\\n",
       "0          Canada  Website            Paid        English      NaN   \n",
       "1          Canada  iOS App            Paid        English      NaN   \n",
       "2          Canada  iOS App            Paid        English      NaN   \n",
       "3          Canada  Website            Paid        English      NaN   \n",
       "4          Canada  Website            Paid        English      NaN   \n",
       "\n",
       "   sum_pdp_menswear_views  sum_pdp_womenswear_views  \\\n",
       "0                       3                         0   \n",
       "1                       1                         0   \n",
       "2                       0                         0   \n",
       "3                       1                         0   \n",
       "4                       0                         0   \n",
       "\n",
       "   sum_pdp_everythingelse_views  sum_addtocart_menswear  \\\n",
       "0                             0                       0   \n",
       "1                             0                       0   \n",
       "2                             0                       0   \n",
       "3                             0                       0   \n",
       "4                             0                       0   \n",
       "\n",
       "   sum_addtocart_womenswear  sum_addtocart_everythingelse  sum_addtowishlist  \n",
       "0                         0                             0                  0  \n",
       "1                         0                             0                  0  \n",
       "2                         0                             0                  0  \n",
       "3                         0                             0                  0  \n",
       "4                         0                             0                  0  "
      ]
     },
     "execution_count": 247,
     "metadata": {},
     "output_type": "execute_result"
    }
   ],
   "source": [
    "session.head(5)"
   ]
  },
  {
   "cell_type": "code",
   "execution_count": 248,
   "metadata": {},
   "outputs": [
    {
     "data": {
      "text/html": [
       "<div>\n",
       "<style scoped>\n",
       "    .dataframe tbody tr th:only-of-type {\n",
       "        vertical-align: middle;\n",
       "    }\n",
       "\n",
       "    .dataframe tbody tr th {\n",
       "        vertical-align: top;\n",
       "    }\n",
       "\n",
       "    .dataframe thead th {\n",
       "        text-align: right;\n",
       "    }\n",
       "</style>\n",
       "<table border=\"1\" class=\"dataframe\">\n",
       "  <thead>\n",
       "    <tr style=\"text-align: right;\">\n",
       "      <th></th>\n",
       "      <th>date</th>\n",
       "      <th>orderId</th>\n",
       "      <th>member_Id</th>\n",
       "      <th>is_discounted_order</th>\n",
       "      <th>gross_revenue</th>\n",
       "      <th>gross_revenue_before_discount</th>\n",
       "      <th>sum_units_sold</th>\n",
       "      <th>sum_units_returned</th>\n",
       "    </tr>\n",
       "  </thead>\n",
       "  <tbody>\n",
       "    <tr>\n",
       "      <th>0</th>\n",
       "      <td>2021-05-18</td>\n",
       "      <td>1152389539624</td>\n",
       "      <td>20792069</td>\n",
       "      <td>0</td>\n",
       "      <td>1492.086505</td>\n",
       "      <td>1492.086505</td>\n",
       "      <td>13</td>\n",
       "      <td>0</td>\n",
       "    </tr>\n",
       "    <tr>\n",
       "      <th>1</th>\n",
       "      <td>2021-01-15</td>\n",
       "      <td>1073058496294</td>\n",
       "      <td>25109761</td>\n",
       "      <td>0</td>\n",
       "      <td>1100.847779</td>\n",
       "      <td>1100.847779</td>\n",
       "      <td>9</td>\n",
       "      <td>0</td>\n",
       "    </tr>\n",
       "    <tr>\n",
       "      <th>2</th>\n",
       "      <td>2020-10-09</td>\n",
       "      <td>952533254524</td>\n",
       "      <td>46388481</td>\n",
       "      <td>0</td>\n",
       "      <td>671.233245</td>\n",
       "      <td>671.233245</td>\n",
       "      <td>12</td>\n",
       "      <td>0</td>\n",
       "    </tr>\n",
       "    <tr>\n",
       "      <th>3</th>\n",
       "      <td>2020-12-10</td>\n",
       "      <td>1028141327614</td>\n",
       "      <td>11022849</td>\n",
       "      <td>0</td>\n",
       "      <td>972.986814</td>\n",
       "      <td>972.986814</td>\n",
       "      <td>8</td>\n",
       "      <td>0</td>\n",
       "    </tr>\n",
       "    <tr>\n",
       "      <th>4</th>\n",
       "      <td>2021-02-15</td>\n",
       "      <td>1103154584224</td>\n",
       "      <td>39704321</td>\n",
       "      <td>0</td>\n",
       "      <td>849.546206</td>\n",
       "      <td>849.546206</td>\n",
       "      <td>10</td>\n",
       "      <td>0</td>\n",
       "    </tr>\n",
       "  </tbody>\n",
       "</table>\n",
       "</div>"
      ],
      "text/plain": [
       "         date        orderId  member_Id  is_discounted_order  gross_revenue  \\\n",
       "0  2021-05-18  1152389539624   20792069                    0    1492.086505   \n",
       "1  2021-01-15  1073058496294   25109761                    0    1100.847779   \n",
       "2  2020-10-09   952533254524   46388481                    0     671.233245   \n",
       "3  2020-12-10  1028141327614   11022849                    0     972.986814   \n",
       "4  2021-02-15  1103154584224   39704321                    0     849.546206   \n",
       "\n",
       "   gross_revenue_before_discount  sum_units_sold  sum_units_returned  \n",
       "0                    1492.086505              13                   0  \n",
       "1                    1100.847779               9                   0  \n",
       "2                     671.233245              12                   0  \n",
       "3                     972.986814               8                   0  \n",
       "4                     849.546206              10                   0  "
      ]
     },
     "execution_count": 248,
     "metadata": {},
     "output_type": "execute_result"
    }
   ],
   "source": [
    "transaction.head(5)"
   ]
  },
  {
   "cell_type": "code",
   "execution_count": 249,
   "metadata": {},
   "outputs": [],
   "source": [
    "transaction = transaction.rename(columns={'member_Id': 'memberId'})"
   ]
  },
  {
   "cell_type": "code",
   "execution_count": 250,
   "metadata": {},
   "outputs": [
    {
     "data": {
      "text/plain": [
       "140180"
      ]
     },
     "execution_count": 250,
     "metadata": {},
     "output_type": "execute_result"
    }
   ],
   "source": [
    "len(session)"
   ]
  },
  {
   "cell_type": "code",
   "execution_count": 251,
   "metadata": {},
   "outputs": [
    {
     "data": {
      "text/plain": [
       "26262"
      ]
     },
     "execution_count": 251,
     "metadata": {},
     "output_type": "execute_result"
    }
   ],
   "source": [
    "len(transaction)"
   ]
  },
  {
   "cell_type": "code",
   "execution_count": 252,
   "metadata": {},
   "outputs": [
    {
     "data": {
      "text/plain": [
       "visitId                                            0\n",
       "fullVisitorId                                      0\n",
       "date                                               0\n",
       "memberId                                           0\n",
       "is_newsletter_subscriber                           0\n",
       "newsletter_gender_communication_preference         0\n",
       "country_from_ip                                    0\n",
       "platform                                           0\n",
       "traffic_channel                                    0\n",
       "language_visit                                     0\n",
       "orderId                                       135608\n",
       "sum_pdp_menswear_views                             0\n",
       "sum_pdp_womenswear_views                           0\n",
       "sum_pdp_everythingelse_views                       0\n",
       "sum_addtocart_menswear                             0\n",
       "sum_addtocart_womenswear                           0\n",
       "sum_addtocart_everythingelse                       0\n",
       "sum_addtowishlist                                  0\n",
       "dtype: int64"
      ]
     },
     "execution_count": 252,
     "metadata": {},
     "output_type": "execute_result"
    }
   ],
   "source": [
    "session.isnull().sum()"
   ]
  },
  {
   "cell_type": "markdown",
   "metadata": {},
   "source": [
    "There are more than 96% of orderId are null."
   ]
  },
  {
   "cell_type": "code",
   "execution_count": 253,
   "metadata": {},
   "outputs": [
    {
     "data": {
      "text/plain": [
       "date                             0\n",
       "orderId                          0\n",
       "memberId                         0\n",
       "is_discounted_order              0\n",
       "gross_revenue                    0\n",
       "gross_revenue_before_discount    8\n",
       "sum_units_sold                   0\n",
       "sum_units_returned               0\n",
       "dtype: int64"
      ]
     },
     "execution_count": 253,
     "metadata": {},
     "output_type": "execute_result"
    }
   ],
   "source": [
    "transaction.isnull().sum()"
   ]
  },
  {
   "cell_type": "markdown",
   "metadata": {},
   "source": [
    "There are 0.03% rows are null in the gross revenue before discount, but would not affect the analysis so we can leave it."
   ]
  },
  {
   "cell_type": "code",
   "execution_count": 254,
   "metadata": {},
   "outputs": [
    {
     "name": "stdout",
     "output_type": "stream",
     "text": [
      "2020-01-01\n",
      "2021-05-30\n",
      "The data is from 1.5 year transaction\n"
     ]
    }
   ],
   "source": [
    "#timebound for transaction\n",
    "\n",
    "print(transaction[\"date\"].min())\n",
    "print(transaction[\"date\"].max())\n",
    "print(\"The data is from 1.5 year transaction\")"
   ]
  },
  {
   "cell_type": "code",
   "execution_count": 334,
   "metadata": {},
   "outputs": [
    {
     "name": "stdout",
     "output_type": "stream",
     "text": [
      "2021-01-01\n",
      "2021-05-30\n",
      "The data is from 1.5 year transaction\n"
     ]
    }
   ],
   "source": [
    "#timebound for session\n",
    "\n",
    "print(session[\"date\"].min())\n",
    "print(session[\"date\"].max())\n",
    "print(\"The data is from 0.5 year transaction\")"
   ]
  },
  {
   "cell_type": "markdown",
   "metadata": {},
   "source": [
    "Since there are difference in timebound, we would omit the data before 2021-01-01."
   ]
  },
  {
   "cell_type": "code",
   "execution_count": 255,
   "metadata": {},
   "outputs": [
    {
     "name": "stdout",
     "output_type": "stream",
     "text": [
      "2021-01-01\n",
      "2021-05-30\n",
      "The data is from 0.5 year transaction\n"
     ]
    }
   ],
   "source": [
    "#extract the timebound we want\n",
    "\n",
    "transaction_2021 = transaction[transaction.date > '2020-12-31']\n",
    "\n",
    "print(transaction_2021[\"date\"].min())\n",
    "print(transaction_2021[\"date\"].max())\n",
    "print(\"The data is from 0.5 year transaction\")"
   ]
  },
  {
   "cell_type": "code",
   "execution_count": 335,
   "metadata": {},
   "outputs": [],
   "source": [
    "# do left merge from session to transaction as all_df\n",
    "\n",
    "all_df = pd.merge(transaction_2021,session,how = 'outer', on = \"memberId\")"
   ]
  },
  {
   "cell_type": "code",
   "execution_count": 257,
   "metadata": {},
   "outputs": [
    {
     "data": {
      "text/plain": [
       "date_x                                         33286\n",
       "orderId_x                                      33286\n",
       "memberId                                           0\n",
       "is_discounted_order                            33286\n",
       "gross_revenue                                  33286\n",
       "gross_revenue_before_discount                  33401\n",
       "sum_units_sold                                 33286\n",
       "sum_units_returned                             33286\n",
       "visitId                                            0\n",
       "fullVisitorId                                      0\n",
       "date_y                                             0\n",
       "is_newsletter_subscriber                           0\n",
       "newsletter_gender_communication_preference         0\n",
       "country_from_ip                                    0\n",
       "platform                                           0\n",
       "traffic_channel                                    0\n",
       "language_visit                                     0\n",
       "orderId_y                                     376187\n",
       "sum_pdp_menswear_views                             0\n",
       "sum_pdp_womenswear_views                           0\n",
       "sum_pdp_everythingelse_views                       0\n",
       "sum_addtocart_menswear                             0\n",
       "sum_addtocart_womenswear                           0\n",
       "sum_addtocart_everythingelse                       0\n",
       "sum_addtowishlist                                  0\n",
       "dtype: int64"
      ]
     },
     "execution_count": 257,
     "metadata": {},
     "output_type": "execute_result"
    }
   ],
   "source": [
    "all_df.isnull().sum()"
   ]
  },
  {
   "cell_type": "code",
   "execution_count": 258,
   "metadata": {},
   "outputs": [
    {
     "data": {
      "text/plain": [
       "date_x                                           150\n",
       "orderId_x                                       9585\n",
       "memberId                                        5344\n",
       "is_discounted_order                                2\n",
       "gross_revenue                                   6204\n",
       "gross_revenue_before_discount                   6509\n",
       "sum_units_sold                                    24\n",
       "sum_units_returned                                17\n",
       "visitId                                       140048\n",
       "fullVisitorId                                  24935\n",
       "date_y                                           150\n",
       "is_newsletter_subscriber                           2\n",
       "newsletter_gender_communication_preference         2\n",
       "country_from_ip                                    3\n",
       "platform                                           2\n",
       "traffic_channel                                    3\n",
       "language_visit                                     2\n",
       "orderId_y                                       3646\n",
       "sum_pdp_menswear_views                            54\n",
       "sum_pdp_womenswear_views                          54\n",
       "sum_pdp_everythingelse_views                      31\n",
       "sum_addtocart_menswear                            25\n",
       "sum_addtocart_womenswear                          20\n",
       "sum_addtocart_everythingelse                      14\n",
       "sum_addtowishlist                                 29\n",
       "dtype: int64"
      ]
     },
     "execution_count": 258,
     "metadata": {},
     "output_type": "execute_result"
    }
   ],
   "source": [
    "all_df.nunique()"
   ]
  },
  {
   "cell_type": "markdown",
   "metadata": {},
   "source": [
    "# Exploratory Data Analysis"
   ]
  },
  {
   "cell_type": "markdown",
   "metadata": {},
   "source": [
    "1a) Revenue per member in US, Canada and Others"
   ]
  },
  {
   "cell_type": "code",
   "execution_count": 259,
   "metadata": {},
   "outputs": [
    {
     "data": {
      "text/plain": [
       "country_from_ip\n",
       "Canada    782.449270\n",
       "Others    723.658178\n",
       "US        864.087934\n",
       "dtype: float64"
      ]
     },
     "execution_count": 259,
     "metadata": {},
     "output_type": "execute_result"
    }
   ],
   "source": [
    "Q1a = all_df[['memberId','gross_revenue','country_from_ip']]\n",
    "Q1a = Q1a.drop_duplicates()\n",
    "Q1a_1 = Q1a.groupby(\"country_from_ip\").agg(\n",
    "    {\"memberId\": pd.Series.nunique, \"gross_revenue\": np.sum})\n",
    "revenue_per_member = Q1a_1.gross_revenue/Q1a_1.memberId\n",
    "revenue_per_member"
   ]
  },
  {
   "cell_type": "code",
   "execution_count": 260,
   "metadata": {},
   "outputs": [
    {
     "data": {
      "text/plain": [
       "<AxesSubplot:xlabel='country_from_ip'>"
      ]
     },
     "execution_count": 260,
     "metadata": {},
     "output_type": "execute_result"
    },
    {
     "data": {
      "image/png": "[encoded data removed]",
      "text/plain": [
       "<Figure size 432x288 with 1 Axes>"
      ]
     },
     "metadata": {
      "needs_background": "light"
     },
     "output_type": "display_data"
    }
   ],
   "source": [
    "revenue_per_member.plot.bar()"
   ]
  },
  {
   "cell_type": "markdown",
   "metadata": {},
   "source": [
    "1b) sessions per visitor in US, Canada and Others"
   ]
  },
  {
   "cell_type": "code",
   "execution_count": 261,
   "metadata": {},
   "outputs": [
    {
     "name": "stderr",
     "output_type": "stream",
     "text": [
      "/Users/tiffanylaw/opt/anaconda3/envs/pythonProject2/lib/python3.8/site-packages/pandas/core/frame.py:3607: SettingWithCopyWarning: \n",
      "A value is trying to be set on a copy of a slice from a DataFrame.\n",
      "Try using .loc[row_indexer,col_indexer] = value instead\n",
      "\n",
      "See the caveats in the documentation: https://pandas.pydata.org/pandas-docs/stable/user_guide/indexing.html#returning-a-view-versus-a-copy\n",
      "  self._set_item(key, value)\n"
     ]
    },
    {
     "data": {
      "text/plain": [
       "country_from_ip\n",
       "Canada    2.313709\n",
       "Others    1.588218\n",
       "US        1.976264\n",
       "dtype: float64"
      ]
     },
     "execution_count": 261,
     "metadata": {},
     "output_type": "execute_result"
    }
   ],
   "source": [
    "Q1b = all_df[['visitId','sum_pdp_menswear_views','sum_pdp_womenswear_views','sum_pdp_everythingelse_views','country_from_ip']]\n",
    "Q1b['session_men'] = Q1b.sum_pdp_menswear_views > 0\n",
    "Q1b['session_women'] = Q1b.sum_pdp_womenswear_views > 0\n",
    "Q1b['session_everything'] = Q1b.sum_pdp_everythingelse_views > 0\n",
    "\n",
    "Q1b['session_men'] = Q1b['session_men'].astype(int)\n",
    "Q1b['session_women'] = Q1b['session_women'].astype(int)\n",
    "Q1b['session_everything'] = Q1b['session_everything'].astype(int)\n",
    "\n",
    "Q1b['session_no'] = Q1b.session_men+Q1b.session_women+Q1b.session_everything\n",
    "\n",
    "Q1b_1 = Q1b.groupby('country_from_ip').agg(\n",
    "    {'visitId': pd.Series.nunique , 'session_no': np.sum}\n",
    ")\n",
    "\n",
    "sessions_per_visitor = Q1b_1.session_no/Q1b_1.visitId\n",
    "sessions_per_visitor"
   ]
  },
  {
   "cell_type": "code",
   "execution_count": 262,
   "metadata": {},
   "outputs": [
    {
     "data": {
      "text/plain": [
       "<AxesSubplot:xlabel='country_from_ip'>"
      ]
     },
     "execution_count": 262,
     "metadata": {},
     "output_type": "execute_result"
    },
    {
     "data": {
      "image/png": "[encoded data removed]",
      "text/plain": [
       "<Figure size 432x288 with 1 Axes>"
      ]
     },
     "metadata": {
      "needs_background": "light"
     },
     "output_type": "display_data"
    }
   ],
   "source": [
    "sessions_per_visitor.plot.bar()"
   ]
  },
  {
   "cell_type": "markdown",
   "metadata": {},
   "source": [
    "1c) Average order value (AOV) in US, Canada and Others"
   ]
  },
  {
   "cell_type": "code",
   "execution_count": 263,
   "metadata": {},
   "outputs": [
    {
     "data": {
      "text/plain": [
       "country_from_ip\n",
       "Canada    407.522948\n",
       "Others    480.164231\n",
       "US        494.968864\n",
       "dtype: float64"
      ]
     },
     "execution_count": 263,
     "metadata": {},
     "output_type": "execute_result"
    }
   ],
   "source": [
    "#average order value (AOV) = revenue / # of order\n",
    "Q1c = all_df[['orderId_x','gross_revenue','country_from_ip']]\n",
    "Q1c = Q1c.drop_duplicates()\n",
    "AOV = Q1c.groupby('country_from_ip').agg(\n",
    "    {'orderId_x': pd.Series.nunique, 'gross_revenue':np.sum})\n",
    "Q1c_1 = AOV.gross_revenue/AOV.orderId_x\n",
    "Q1c_1\n"
   ]
  },
  {
   "cell_type": "code",
   "execution_count": 264,
   "metadata": {},
   "outputs": [
    {
     "data": {
      "text/plain": [
       "<AxesSubplot:xlabel='country_from_ip'>"
      ]
     },
     "execution_count": 264,
     "metadata": {},
     "output_type": "execute_result"
    },
    {
     "data": {
      "image/png": "[encoded data removed]",
      "text/plain": [
       "<Figure size 432x288 with 1 Axes>"
      ]
     },
     "metadata": {
      "needs_background": "light"
     },
     "output_type": "display_data"
    }
   ],
   "source": [
    "Q1c_1.plot.bar()"
   ]
  },
  {
   "cell_type": "markdown",
   "metadata": {},
   "source": [
    "1d) Traffic in US, Canada and Others"
   ]
  },
  {
   "cell_type": "code",
   "execution_count": 265,
   "metadata": {},
   "outputs": [
    {
     "data": {
      "text/plain": [
       "country_from_ip\n",
       "Canada    134171\n",
       "Others     84557\n",
       "US        176530\n",
       "Name: visitId, dtype: int64"
      ]
     },
     "execution_count": 265,
     "metadata": {},
     "output_type": "execute_result"
    }
   ],
   "source": [
    "#traffic is the number of visit times between 1/1/2021 and 31/5/2021\n",
    "Q1d = all_df[['visitId','country_from_ip']]\n",
    "Q1d_1 = Q1d.groupby('country_from_ip').visitId.count()\n",
    "Q1d_1"
   ]
  },
  {
   "cell_type": "code",
   "execution_count": 266,
   "metadata": {},
   "outputs": [
    {
     "data": {
      "text/plain": [
       "<AxesSubplot:xlabel='country_from_ip'>"
      ]
     },
     "execution_count": 266,
     "metadata": {},
     "output_type": "execute_result"
    },
    {
     "data": {
      "image/png": "[encoded data removed]",
      "text/plain": [
       "<Figure size 432x288 with 1 Axes>"
      ]
     },
     "metadata": {
      "needs_background": "light"
     },
     "output_type": "display_data"
    }
   ],
   "source": [
    "Q1d_1.plot.bar()"
   ]
  },
  {
   "cell_type": "markdown",
   "metadata": {},
   "source": [
    "1e) visit per visitor in US, Canada and Others"
   ]
  },
  {
   "cell_type": "code",
   "execution_count": 267,
   "metadata": {},
   "outputs": [
    {
     "data": {
      "text/plain": [
       "country_from_ip\n",
       "Canada     7.059700\n",
       "Others    11.783519\n",
       "US         6.343024\n",
       "dtype: float64"
      ]
     },
     "execution_count": 267,
     "metadata": {},
     "output_type": "execute_result"
    }
   ],
   "source": [
    "#visit per visitor\n",
    "Q1e = all_df[['visitId','country_from_ip']]\n",
    "Q1e_1 = Q1e['visitId'].value_counts()\n",
    "Q1e_1 = Q1e_1.to_frame(name = 'time_of_visiting')\n",
    "Q1e_1 = Q1e_1.reset_index()\n",
    "Q1e_1 = Q1e_1.rename(columns={'index': 'visitId'})\n",
    "Q1e_2 = pd.merge(Q1e_1,Q1e,how='left', on = 'visitId')\n",
    "Q1e_3 = Q1e_2.groupby('country_from_ip').agg(\n",
    "    {'time_of_visiting': np.sum, 'visitId': pd.Series.count\n",
    "    }\n",
    ")\n",
    "visit_per_visitor = Q1e_3.time_of_visiting/Q1e_3.visitId\n",
    "visit_per_visitor"
   ]
  },
  {
   "cell_type": "code",
   "execution_count": 268,
   "metadata": {},
   "outputs": [
    {
     "data": {
      "text/plain": [
       "<AxesSubplot:xlabel='country_from_ip'>"
      ]
     },
     "execution_count": 268,
     "metadata": {},
     "output_type": "execute_result"
    },
    {
     "data": {
      "image/png": "[encoded data removed]",
      "text/plain": [
       "<Figure size 432x288 with 1 Axes>"
      ]
     },
     "metadata": {
      "needs_background": "light"
     },
     "output_type": "display_data"
    }
   ],
   "source": [
    "visit_per_visitor.plot.bar()"
   ]
  },
  {
   "cell_type": "markdown",
   "metadata": {},
   "source": [
    "1f(i) Add to cart rate in US, Canada and Others"
   ]
  },
  {
   "cell_type": "code",
   "execution_count": 269,
   "metadata": {},
   "outputs": [
    {
     "data": {
      "text/plain": [
       "country_from_ip\n",
       "Canada    15.674028\n",
       "Others    17.330322\n",
       "US        15.822240\n",
       "dtype: float64"
      ]
     },
     "execution_count": 269,
     "metadata": {},
     "output_type": "execute_result"
    }
   ],
   "source": [
    "#Add to cart rate by countries\n",
    "Q1f = all_df[['memberId','country_from_ip','newsletter_gender_communication_preference','sum_addtocart_menswear','sum_addtocart_womenswear','sum_addtocart_everythingelse']]\n",
    "Q1f['addtocart_times'] = Q1f.sum_addtocart_menswear+Q1f.sum_addtocart_womenswear+Q1f.sum_addtocart_everythingelse\n",
    "Q1f['add_to_cart_morethan1'] = Q1f.addtocart_times > 0\n",
    "Q1f['add_to_cart_morethan1'] = Q1f['add_to_cart_morethan1'].astype(int)\n",
    "Q1f_1 = Q1f.groupby('country_from_ip').agg(\n",
    "    {'add_to_cart_morethan1':np.sum ,'memberId':pd.Series.count }\n",
    ")\n",
    "ATC_rate_country = Q1f_1.add_to_cart_morethan1/Q1f_1.memberId*100\n",
    "ATC_rate_country\n"
   ]
  },
  {
   "cell_type": "code",
   "execution_count": 270,
   "metadata": {},
   "outputs": [
    {
     "data": {
      "text/plain": [
       "<AxesSubplot:xlabel='country_from_ip'>"
      ]
     },
     "execution_count": 270,
     "metadata": {},
     "output_type": "execute_result"
    },
    {
     "data": {
      "image/png": "[encoded data removed]",
      "text/plain": [
       "<Figure size 432x288 with 1 Axes>"
      ]
     },
     "metadata": {
      "needs_background": "light"
     },
     "output_type": "display_data"
    }
   ],
   "source": [
    "ATC_rate_country.plot.bar()"
   ]
  },
  {
   "cell_type": "markdown",
   "metadata": {},
   "source": [
    "1f(ii) Add to cart rate in predict genders"
   ]
  },
  {
   "cell_type": "code",
   "execution_count": 271,
   "metadata": {},
   "outputs": [
    {
     "data": {
      "text/plain": [
       "newsletter_gender_communication_preference\n",
       "Menswear      16.090604\n",
       "Womenswear    16.096896\n",
       "dtype: float64"
      ]
     },
     "execution_count": 271,
     "metadata": {},
     "output_type": "execute_result"
    }
   ],
   "source": [
    "#Add to cart rate by gender\n",
    "Q1f_2 = Q1f.groupby('newsletter_gender_communication_preference').agg(\n",
    "    {'add_to_cart_morethan1':np.sum ,'memberId':pd.Series.count }\n",
    ")\n",
    "ATC_rate_gender = Q1f_2.add_to_cart_morethan1/Q1f_2.memberId*100\n",
    "ATC_rate_gender"
   ]
  },
  {
   "cell_type": "code",
   "execution_count": 273,
   "metadata": {},
   "outputs": [
    {
     "name": "stdout",
     "output_type": "stream",
     "text": [
      "<class 'pandas.core.frame.DataFrame'>\n",
      "Int64Index: 395258 entries, 0 to 395257\n",
      "Data columns (total 25 columns):\n",
      " #   Column                                      Non-Null Count   Dtype  \n",
      "---  ------                                      --------------   -----  \n",
      " 0   date_x                                      361972 non-null  object \n",
      " 1   orderId_x                                   361972 non-null  float64\n",
      " 2   memberId                                    395258 non-null  int64  \n",
      " 3   is_discounted_order                         361972 non-null  float64\n",
      " 4   gross_revenue                               361972 non-null  float64\n",
      " 5   gross_revenue_before_discount               361857 non-null  float64\n",
      " 6   sum_units_sold                              361972 non-null  float64\n",
      " 7   sum_units_returned                          361972 non-null  float64\n",
      " 8   visitId                                     395258 non-null  object \n",
      " 9   fullVisitorId                               395258 non-null  int64  \n",
      " 10  date_y                                      395258 non-null  object \n",
      " 11  is_newsletter_subscriber                    395258 non-null  object \n",
      " 12  newsletter_gender_communication_preference  395258 non-null  object \n",
      " 13  country_from_ip                             395258 non-null  object \n",
      " 14  platform                                    395258 non-null  object \n",
      " 15  traffic_channel                             395258 non-null  object \n",
      " 16  language_visit                              395258 non-null  object \n",
      " 17  orderId_y                                   19071 non-null   float64\n",
      " 18  sum_pdp_menswear_views                      395258 non-null  int64  \n",
      " 19  sum_pdp_womenswear_views                    395258 non-null  int64  \n",
      " 20  sum_pdp_everythingelse_views                395258 non-null  int64  \n",
      " 21  sum_addtocart_menswear                      395258 non-null  int64  \n",
      " 22  sum_addtocart_womenswear                    395258 non-null  int64  \n",
      " 23  sum_addtocart_everythingelse                395258 non-null  int64  \n",
      " 24  sum_addtowishlist                           395258 non-null  int64  \n",
      "dtypes: float64(7), int64(9), object(9)\n",
      "memory usage: 78.4+ MB\n"
     ]
    }
   ],
   "source": [
    "all_df.info()"
   ]
  },
  {
   "cell_type": "markdown",
   "metadata": {},
   "source": [
    "# RFM Analysis"
   ]
  },
  {
   "cell_type": "markdown",
   "metadata": {},
   "source": [
    "- Recency Frequency Monetary (RFM)\n",
    "\n",
    "- RFM analysis allows you to segment customers by the frequency and value of purchases and identify those customers who spend the most money.\n",
    "\n",
    "- Recency — how long it’s been since a customer bought something from us.\n",
    "- Frequency — how often a customer buys from us.\n",
    "- Monetary value — the total value of purchases a customer has made."
   ]
  },
  {
   "cell_type": "code",
   "execution_count": 274,
   "metadata": {},
   "outputs": [
    {
     "data": {
      "text/html": [
       "<div>\n",
       "<style scoped>\n",
       "    .dataframe tbody tr th:only-of-type {\n",
       "        vertical-align: middle;\n",
       "    }\n",
       "\n",
       "    .dataframe tbody tr th {\n",
       "        vertical-align: top;\n",
       "    }\n",
       "\n",
       "    .dataframe thead th {\n",
       "        text-align: right;\n",
       "    }\n",
       "</style>\n",
       "<table border=\"1\" class=\"dataframe\">\n",
       "  <thead>\n",
       "    <tr style=\"text-align: right;\">\n",
       "      <th></th>\n",
       "      <th>date</th>\n",
       "      <th>orderId</th>\n",
       "      <th>memberId</th>\n",
       "      <th>is_discounted_order</th>\n",
       "      <th>gross_revenue</th>\n",
       "      <th>gross_revenue_before_discount</th>\n",
       "      <th>sum_units_sold</th>\n",
       "      <th>sum_units_returned</th>\n",
       "    </tr>\n",
       "  </thead>\n",
       "  <tbody>\n",
       "    <tr>\n",
       "      <th>0</th>\n",
       "      <td>2021-05-18</td>\n",
       "      <td>1152389539624</td>\n",
       "      <td>20792069</td>\n",
       "      <td>0</td>\n",
       "      <td>1492.086505</td>\n",
       "      <td>1492.086505</td>\n",
       "      <td>13</td>\n",
       "      <td>0</td>\n",
       "    </tr>\n",
       "    <tr>\n",
       "      <th>1</th>\n",
       "      <td>2021-01-15</td>\n",
       "      <td>1073058496294</td>\n",
       "      <td>25109761</td>\n",
       "      <td>0</td>\n",
       "      <td>1100.847779</td>\n",
       "      <td>1100.847779</td>\n",
       "      <td>9</td>\n",
       "      <td>0</td>\n",
       "    </tr>\n",
       "    <tr>\n",
       "      <th>4</th>\n",
       "      <td>2021-02-15</td>\n",
       "      <td>1103154584224</td>\n",
       "      <td>39704321</td>\n",
       "      <td>0</td>\n",
       "      <td>849.546206</td>\n",
       "      <td>849.546206</td>\n",
       "      <td>10</td>\n",
       "      <td>0</td>\n",
       "    </tr>\n",
       "    <tr>\n",
       "      <th>5</th>\n",
       "      <td>2021-05-14</td>\n",
       "      <td>1145902598644</td>\n",
       "      <td>19575299</td>\n",
       "      <td>0</td>\n",
       "      <td>601.335908</td>\n",
       "      <td>601.335908</td>\n",
       "      <td>11</td>\n",
       "      <td>0</td>\n",
       "    </tr>\n",
       "    <tr>\n",
       "      <th>6</th>\n",
       "      <td>2021-05-22</td>\n",
       "      <td>1157467264384</td>\n",
       "      <td>8225282</td>\n",
       "      <td>0</td>\n",
       "      <td>1222.306723</td>\n",
       "      <td>1222.306723</td>\n",
       "      <td>9</td>\n",
       "      <td>0</td>\n",
       "    </tr>\n",
       "  </tbody>\n",
       "</table>\n",
       "</div>"
      ],
      "text/plain": [
       "         date        orderId  memberId  is_discounted_order  gross_revenue  \\\n",
       "0  2021-05-18  1152389539624  20792069                    0    1492.086505   \n",
       "1  2021-01-15  1073058496294  25109761                    0    1100.847779   \n",
       "4  2021-02-15  1103154584224  39704321                    0     849.546206   \n",
       "5  2021-05-14  1145902598644  19575299                    0     601.335908   \n",
       "6  2021-05-22  1157467264384   8225282                    0    1222.306723   \n",
       "\n",
       "   gross_revenue_before_discount  sum_units_sold  sum_units_returned  \n",
       "0                    1492.086505              13                   0  \n",
       "1                    1100.847779               9                   0  \n",
       "4                     849.546206              10                   0  \n",
       "5                     601.335908              11                   0  \n",
       "6                    1222.306723               9                   0  "
      ]
     },
     "execution_count": 274,
     "metadata": {},
     "output_type": "execute_result"
    }
   ],
   "source": [
    "transaction_2021.head()"
   ]
  },
  {
   "cell_type": "code",
   "execution_count": 275,
   "metadata": {},
   "outputs": [
    {
     "name": "stderr",
     "output_type": "stream",
     "text": [
      "/Users/tiffanylaw/opt/anaconda3/envs/pythonProject2/lib/python3.8/site-packages/pandas/core/frame.py:3607: SettingWithCopyWarning: \n",
      "A value is trying to be set on a copy of a slice from a DataFrame.\n",
      "Try using .loc[row_indexer,col_indexer] = value instead\n",
      "\n",
      "See the caveats in the documentation: https://pandas.pydata.org/pandas-docs/stable/user_guide/indexing.html#returning-a-view-versus-a-copy\n",
      "  self._set_item(key, value)\n"
     ]
    }
   ],
   "source": [
    "NOW = dt.date(2021,5,31) \n",
    "transaction_2021['date'] = pd.DatetimeIndex(transaction_2021.date).date"
   ]
  },
  {
   "cell_type": "code",
   "execution_count": 276,
   "metadata": {},
   "outputs": [
    {
     "data": {
      "text/html": [
       "<div>\n",
       "<style scoped>\n",
       "    .dataframe tbody tr th:only-of-type {\n",
       "        vertical-align: middle;\n",
       "    }\n",
       "\n",
       "    .dataframe tbody tr th {\n",
       "        vertical-align: top;\n",
       "    }\n",
       "\n",
       "    .dataframe thead th {\n",
       "        text-align: right;\n",
       "    }\n",
       "</style>\n",
       "<table border=\"1\" class=\"dataframe\">\n",
       "  <thead>\n",
       "    <tr style=\"text-align: right;\">\n",
       "      <th></th>\n",
       "      <th>memberId</th>\n",
       "      <th>Recency</th>\n",
       "    </tr>\n",
       "  </thead>\n",
       "  <tbody>\n",
       "    <tr>\n",
       "      <th>0</th>\n",
       "      <td>6661</td>\n",
       "      <td>15</td>\n",
       "    </tr>\n",
       "    <tr>\n",
       "      <th>1</th>\n",
       "      <td>7428</td>\n",
       "      <td>51</td>\n",
       "    </tr>\n",
       "    <tr>\n",
       "      <th>2</th>\n",
       "      <td>11777</td>\n",
       "      <td>14</td>\n",
       "    </tr>\n",
       "    <tr>\n",
       "      <th>3</th>\n",
       "      <td>17408</td>\n",
       "      <td>36</td>\n",
       "    </tr>\n",
       "    <tr>\n",
       "      <th>4</th>\n",
       "      <td>17411</td>\n",
       "      <td>110</td>\n",
       "    </tr>\n",
       "  </tbody>\n",
       "</table>\n",
       "</div>"
      ],
      "text/plain": [
       "   memberId  Recency\n",
       "0      6661       15\n",
       "1      7428       51\n",
       "2     11777       14\n",
       "3     17408       36\n",
       "4     17411      110"
      ]
     },
     "execution_count": 276,
     "metadata": {},
     "output_type": "execute_result"
    }
   ],
   "source": [
    "#Recency\n",
    "\n",
    "df_recency = transaction_2021.groupby(['memberId'],as_index=False)['date'].max()\n",
    "df_recency.columns = ['memberId','Last_Purchase_Date']\n",
    "\n",
    "df_recency['Recency'] = df_recency.Last_Purchase_Date.apply(lambda x:(NOW - x).days)\n",
    "df_recency.drop(columns=['Last_Purchase_Date'],inplace=True)\n",
    "df_recency.head()"
   ]
  },
  {
   "cell_type": "code",
   "execution_count": 277,
   "metadata": {},
   "outputs": [
    {
     "data": {
      "text/html": [
       "<div>\n",
       "<style scoped>\n",
       "    .dataframe tbody tr th:only-of-type {\n",
       "        vertical-align: middle;\n",
       "    }\n",
       "\n",
       "    .dataframe tbody tr th {\n",
       "        vertical-align: top;\n",
       "    }\n",
       "\n",
       "    .dataframe thead th {\n",
       "        text-align: right;\n",
       "    }\n",
       "</style>\n",
       "<table border=\"1\" class=\"dataframe\">\n",
       "  <thead>\n",
       "    <tr style=\"text-align: right;\">\n",
       "      <th></th>\n",
       "      <th>Frequency</th>\n",
       "      <th>Monetary</th>\n",
       "    </tr>\n",
       "    <tr>\n",
       "      <th>memberId</th>\n",
       "      <th></th>\n",
       "      <th></th>\n",
       "    </tr>\n",
       "  </thead>\n",
       "  <tbody>\n",
       "    <tr>\n",
       "      <th>6661</th>\n",
       "      <td>4</td>\n",
       "      <td>996.330562</td>\n",
       "    </tr>\n",
       "    <tr>\n",
       "      <th>7428</th>\n",
       "      <td>1</td>\n",
       "      <td>560.000000</td>\n",
       "    </tr>\n",
       "    <tr>\n",
       "      <th>11777</th>\n",
       "      <td>5</td>\n",
       "      <td>2017.000000</td>\n",
       "    </tr>\n",
       "    <tr>\n",
       "      <th>17408</th>\n",
       "      <td>2</td>\n",
       "      <td>1460.000000</td>\n",
       "    </tr>\n",
       "    <tr>\n",
       "      <th>17411</th>\n",
       "      <td>3</td>\n",
       "      <td>2593.995171</td>\n",
       "    </tr>\n",
       "  </tbody>\n",
       "</table>\n",
       "</div>"
      ],
      "text/plain": [
       "          Frequency     Monetary\n",
       "memberId                        \n",
       "6661              4   996.330562\n",
       "7428              1   560.000000\n",
       "11777             5  2017.000000\n",
       "17408             2  1460.000000\n",
       "17411             3  2593.995171"
      ]
     },
     "execution_count": 277,
     "metadata": {},
     "output_type": "execute_result"
    }
   ],
   "source": [
    "#Frequency - Monetarty\n",
    "\n",
    "FM_Table = transaction_2021.groupby('memberId').agg({'orderId'   : pd.Series.count,\n",
    "                                         'gross_revenue'  : np.sum })\n",
    "FM_Table.rename(columns = {'orderId' :'Frequency',\n",
    "                           'gross_revenue':'Monetary'},inplace= True)\n",
    "FM_Table.head()"
   ]
  },
  {
   "cell_type": "code",
   "execution_count": 278,
   "metadata": {},
   "outputs": [
    {
     "data": {
      "text/html": [
       "<div>\n",
       "<style scoped>\n",
       "    .dataframe tbody tr th:only-of-type {\n",
       "        vertical-align: middle;\n",
       "    }\n",
       "\n",
       "    .dataframe tbody tr th {\n",
       "        vertical-align: top;\n",
       "    }\n",
       "\n",
       "    .dataframe thead th {\n",
       "        text-align: right;\n",
       "    }\n",
       "</style>\n",
       "<table border=\"1\" class=\"dataframe\">\n",
       "  <thead>\n",
       "    <tr style=\"text-align: right;\">\n",
       "      <th></th>\n",
       "      <th>memberId</th>\n",
       "      <th>Recency</th>\n",
       "      <th>Frequency</th>\n",
       "      <th>Monetary</th>\n",
       "    </tr>\n",
       "  </thead>\n",
       "  <tbody>\n",
       "    <tr>\n",
       "      <th>0</th>\n",
       "      <td>6661</td>\n",
       "      <td>15</td>\n",
       "      <td>4</td>\n",
       "      <td>996.330562</td>\n",
       "    </tr>\n",
       "    <tr>\n",
       "      <th>1</th>\n",
       "      <td>7428</td>\n",
       "      <td>51</td>\n",
       "      <td>1</td>\n",
       "      <td>560.000000</td>\n",
       "    </tr>\n",
       "    <tr>\n",
       "      <th>2</th>\n",
       "      <td>11777</td>\n",
       "      <td>14</td>\n",
       "      <td>5</td>\n",
       "      <td>2017.000000</td>\n",
       "    </tr>\n",
       "    <tr>\n",
       "      <th>3</th>\n",
       "      <td>17408</td>\n",
       "      <td>36</td>\n",
       "      <td>2</td>\n",
       "      <td>1460.000000</td>\n",
       "    </tr>\n",
       "    <tr>\n",
       "      <th>4</th>\n",
       "      <td>17411</td>\n",
       "      <td>110</td>\n",
       "      <td>3</td>\n",
       "      <td>2593.995171</td>\n",
       "    </tr>\n",
       "  </tbody>\n",
       "</table>\n",
       "</div>"
      ],
      "text/plain": [
       "   memberId  Recency  Frequency     Monetary\n",
       "0      6661       15          4   996.330562\n",
       "1      7428       51          1   560.000000\n",
       "2     11777       14          5  2017.000000\n",
       "3     17408       36          2  1460.000000\n",
       "4     17411      110          3  2593.995171"
      ]
     },
     "execution_count": 278,
     "metadata": {},
     "output_type": "execute_result"
    }
   ],
   "source": [
    "RFM_Table = df_recency.merge(FM_Table,left_on='memberId',right_on='memberId')\n",
    "RFM_Table.head()"
   ]
  },
  {
   "cell_type": "code",
   "execution_count": 279,
   "metadata": {},
   "outputs": [
    {
     "data": {
      "text/plain": [
       "<AxesSubplot:>"
      ]
     },
     "execution_count": 279,
     "metadata": {},
     "output_type": "execute_result"
    },
    {
     "data": {
      "image/png": "[encoded data removed]",
      "text/plain": [
       "<Figure size 432x288 with 2 Axes>"
      ]
     },
     "metadata": {
      "needs_background": "light"
     },
     "output_type": "display_data"
    }
   ],
   "source": [
    "#Heatmap check\n",
    "sns.heatmap(RFM_Table.corr(), annot=True)"
   ]
  },
  {
   "cell_type": "markdown",
   "metadata": {},
   "source": [
    "A highlight in the above chart is customers with high frequency to the website tends to spend more money."
   ]
  },
  {
   "cell_type": "markdown",
   "metadata": {},
   "source": [
    "# Modeling Data: RFM Quantiles"
   ]
  },
  {
   "cell_type": "markdown",
   "metadata": {},
   "source": [
    "- Now we split the metrics into segments using quantiles. \n",
    "- We will assign a score from 1 to 4 to each Recency, Frequency and Monetary respectively. \n",
    "- 1 is the highest value, and 4 is the lowest value.\n",
    "- A final RFM score (Overall Value) is calculated simply by combining individual RFM score numbers."
   ]
  },
  {
   "cell_type": "code",
   "execution_count": 280,
   "metadata": {},
   "outputs": [],
   "source": [
    "quantiles = RFM_Table.quantile(q=[0.25,0.50,0.75])\n",
    "quantiles = quantiles.to_dict()"
   ]
  },
  {
   "cell_type": "code",
   "execution_count": 281,
   "metadata": {},
   "outputs": [],
   "source": [
    "segmented_rfm = RFM_Table.copy()"
   ]
  },
  {
   "cell_type": "code",
   "execution_count": 282,
   "metadata": {},
   "outputs": [],
   "source": [
    "def RScore(x,p,d):\n",
    "    if x <= d[p][0.25]:\n",
    "        return 1\n",
    "    elif x <= d[p][0.50]:\n",
    "        return 2\n",
    "    elif x <= d[p][0.75]: \n",
    "        return 3\n",
    "    else:\n",
    "        return 4\n",
    "    \n",
    "def FMScore(x,p,d):\n",
    "    if x <= d[p][0.25]:\n",
    "        return 4\n",
    "    elif x <= d[p][0.50]:\n",
    "        return 3\n",
    "    elif x <= d[p][0.75]: \n",
    "        return 2\n",
    "    else:\n",
    "        return 1"
   ]
  },
  {
   "cell_type": "code",
   "execution_count": null,
   "metadata": {},
   "outputs": [],
   "source": [
    "RScore([1])"
   ]
  },
  {
   "cell_type": "code",
   "execution_count": 283,
   "metadata": {},
   "outputs": [
    {
     "data": {
      "text/html": [
       "<div>\n",
       "<style scoped>\n",
       "    .dataframe tbody tr th:only-of-type {\n",
       "        vertical-align: middle;\n",
       "    }\n",
       "\n",
       "    .dataframe tbody tr th {\n",
       "        vertical-align: top;\n",
       "    }\n",
       "\n",
       "    .dataframe thead th {\n",
       "        text-align: right;\n",
       "    }\n",
       "</style>\n",
       "<table border=\"1\" class=\"dataframe\">\n",
       "  <thead>\n",
       "    <tr style=\"text-align: right;\">\n",
       "      <th></th>\n",
       "      <th>memberId</th>\n",
       "      <th>Recency</th>\n",
       "      <th>Frequency</th>\n",
       "      <th>Monetary</th>\n",
       "      <th>R_quartile</th>\n",
       "      <th>F_quartile</th>\n",
       "      <th>M_quartile</th>\n",
       "    </tr>\n",
       "  </thead>\n",
       "  <tbody>\n",
       "    <tr>\n",
       "      <th>0</th>\n",
       "      <td>6661</td>\n",
       "      <td>15</td>\n",
       "      <td>4</td>\n",
       "      <td>996.330562</td>\n",
       "      <td>2</td>\n",
       "      <td>1</td>\n",
       "      <td>2</td>\n",
       "    </tr>\n",
       "    <tr>\n",
       "      <th>1</th>\n",
       "      <td>7428</td>\n",
       "      <td>51</td>\n",
       "      <td>1</td>\n",
       "      <td>560.000000</td>\n",
       "      <td>3</td>\n",
       "      <td>4</td>\n",
       "      <td>3</td>\n",
       "    </tr>\n",
       "    <tr>\n",
       "      <th>2</th>\n",
       "      <td>11777</td>\n",
       "      <td>14</td>\n",
       "      <td>5</td>\n",
       "      <td>2017.000000</td>\n",
       "      <td>1</td>\n",
       "      <td>1</td>\n",
       "      <td>1</td>\n",
       "    </tr>\n",
       "    <tr>\n",
       "      <th>3</th>\n",
       "      <td>17408</td>\n",
       "      <td>36</td>\n",
       "      <td>2</td>\n",
       "      <td>1460.000000</td>\n",
       "      <td>2</td>\n",
       "      <td>3</td>\n",
       "      <td>1</td>\n",
       "    </tr>\n",
       "    <tr>\n",
       "      <th>4</th>\n",
       "      <td>17411</td>\n",
       "      <td>110</td>\n",
       "      <td>3</td>\n",
       "      <td>2593.995171</td>\n",
       "      <td>3</td>\n",
       "      <td>2</td>\n",
       "      <td>1</td>\n",
       "    </tr>\n",
       "  </tbody>\n",
       "</table>\n",
       "</div>"
      ],
      "text/plain": [
       "   memberId  Recency  Frequency     Monetary  R_quartile  F_quartile  \\\n",
       "0      6661       15          4   996.330562           2           1   \n",
       "1      7428       51          1   560.000000           3           4   \n",
       "2     11777       14          5  2017.000000           1           1   \n",
       "3     17408       36          2  1460.000000           2           3   \n",
       "4     17411      110          3  2593.995171           3           2   \n",
       "\n",
       "   M_quartile  \n",
       "0           2  \n",
       "1           3  \n",
       "2           1  \n",
       "3           1  \n",
       "4           1  "
      ]
     },
     "execution_count": 283,
     "metadata": {},
     "output_type": "execute_result"
    }
   ],
   "source": [
    "segmented_rfm['R_quartile'] = segmented_rfm['Recency'].apply(RScore, args=('Recency',quantiles))\n",
    "segmented_rfm['F_quartile'] = segmented_rfm['Frequency'].apply(FMScore, args=('Frequency',quantiles))\n",
    "segmented_rfm['M_quartile'] = segmented_rfm['Monetary'].apply(FMScore, args=('Monetary',quantiles))\n",
    "segmented_rfm.head()"
   ]
  },
  {
   "cell_type": "markdown",
   "metadata": {},
   "source": [
    "Calculating the total RFM score combined.\n",
    "\n",
    "RFM_Score = R_quartile + F_quartile + M_quartile"
   ]
  },
  {
   "cell_type": "code",
   "execution_count": 284,
   "metadata": {},
   "outputs": [],
   "source": [
    "segmented_rfm['RFM_Segment'] = segmented_rfm.R_quartile.map(str)+segmented_rfm.F_quartile.map(str)+segmented_rfm.M_quartile.map(str)"
   ]
  },
  {
   "cell_type": "code",
   "execution_count": 285,
   "metadata": {},
   "outputs": [
    {
     "data": {
      "text/html": [
       "<div>\n",
       "<style scoped>\n",
       "    .dataframe tbody tr th:only-of-type {\n",
       "        vertical-align: middle;\n",
       "    }\n",
       "\n",
       "    .dataframe tbody tr th {\n",
       "        vertical-align: top;\n",
       "    }\n",
       "\n",
       "    .dataframe thead th {\n",
       "        text-align: right;\n",
       "    }\n",
       "</style>\n",
       "<table border=\"1\" class=\"dataframe\">\n",
       "  <thead>\n",
       "    <tr style=\"text-align: right;\">\n",
       "      <th></th>\n",
       "      <th>memberId</th>\n",
       "      <th>Recency</th>\n",
       "      <th>Frequency</th>\n",
       "      <th>Monetary</th>\n",
       "      <th>R_quartile</th>\n",
       "      <th>F_quartile</th>\n",
       "      <th>M_quartile</th>\n",
       "      <th>RFM_Segment</th>\n",
       "    </tr>\n",
       "  </thead>\n",
       "  <tbody>\n",
       "    <tr>\n",
       "      <th>0</th>\n",
       "      <td>6661</td>\n",
       "      <td>15</td>\n",
       "      <td>4</td>\n",
       "      <td>996.330562</td>\n",
       "      <td>2</td>\n",
       "      <td>1</td>\n",
       "      <td>2</td>\n",
       "      <td>212</td>\n",
       "    </tr>\n",
       "    <tr>\n",
       "      <th>1</th>\n",
       "      <td>7428</td>\n",
       "      <td>51</td>\n",
       "      <td>1</td>\n",
       "      <td>560.000000</td>\n",
       "      <td>3</td>\n",
       "      <td>4</td>\n",
       "      <td>3</td>\n",
       "      <td>343</td>\n",
       "    </tr>\n",
       "    <tr>\n",
       "      <th>2</th>\n",
       "      <td>11777</td>\n",
       "      <td>14</td>\n",
       "      <td>5</td>\n",
       "      <td>2017.000000</td>\n",
       "      <td>1</td>\n",
       "      <td>1</td>\n",
       "      <td>1</td>\n",
       "      <td>111</td>\n",
       "    </tr>\n",
       "    <tr>\n",
       "      <th>3</th>\n",
       "      <td>17408</td>\n",
       "      <td>36</td>\n",
       "      <td>2</td>\n",
       "      <td>1460.000000</td>\n",
       "      <td>2</td>\n",
       "      <td>3</td>\n",
       "      <td>1</td>\n",
       "      <td>231</td>\n",
       "    </tr>\n",
       "    <tr>\n",
       "      <th>4</th>\n",
       "      <td>17411</td>\n",
       "      <td>110</td>\n",
       "      <td>3</td>\n",
       "      <td>2593.995171</td>\n",
       "      <td>3</td>\n",
       "      <td>2</td>\n",
       "      <td>1</td>\n",
       "      <td>321</td>\n",
       "    </tr>\n",
       "  </tbody>\n",
       "</table>\n",
       "</div>"
      ],
      "text/plain": [
       "   memberId  Recency  Frequency     Monetary  R_quartile  F_quartile  \\\n",
       "0      6661       15          4   996.330562           2           1   \n",
       "1      7428       51          1   560.000000           3           4   \n",
       "2     11777       14          5  2017.000000           1           1   \n",
       "3     17408       36          2  1460.000000           2           3   \n",
       "4     17411      110          3  2593.995171           3           2   \n",
       "\n",
       "   M_quartile RFM_Segment  \n",
       "0           2         212  \n",
       "1           3         343  \n",
       "2           1         111  \n",
       "3           1         231  \n",
       "4           1         321  "
      ]
     },
     "execution_count": 285,
     "metadata": {},
     "output_type": "execute_result"
    }
   ],
   "source": [
    "segmented_rfm.head()"
   ]
  },
  {
   "cell_type": "code",
   "execution_count": 286,
   "metadata": {},
   "outputs": [],
   "source": [
    "segmented_rfm['RFM_Score'] = segmented_rfm[['R_quartile','F_quartile','M_quartile']].sum(axis=1)"
   ]
  },
  {
   "cell_type": "code",
   "execution_count": 287,
   "metadata": {},
   "outputs": [
    {
     "data": {
      "text/html": [
       "<div>\n",
       "<style scoped>\n",
       "    .dataframe tbody tr th:only-of-type {\n",
       "        vertical-align: middle;\n",
       "    }\n",
       "\n",
       "    .dataframe tbody tr th {\n",
       "        vertical-align: top;\n",
       "    }\n",
       "\n",
       "    .dataframe thead th {\n",
       "        text-align: right;\n",
       "    }\n",
       "</style>\n",
       "<table border=\"1\" class=\"dataframe\">\n",
       "  <thead>\n",
       "    <tr style=\"text-align: right;\">\n",
       "      <th></th>\n",
       "      <th>memberId</th>\n",
       "      <th>Recency</th>\n",
       "      <th>Frequency</th>\n",
       "      <th>Monetary</th>\n",
       "      <th>R_quartile</th>\n",
       "      <th>F_quartile</th>\n",
       "      <th>M_quartile</th>\n",
       "      <th>RFM_Segment</th>\n",
       "      <th>RFM_Score</th>\n",
       "    </tr>\n",
       "  </thead>\n",
       "  <tbody>\n",
       "    <tr>\n",
       "      <th>0</th>\n",
       "      <td>6661</td>\n",
       "      <td>15</td>\n",
       "      <td>4</td>\n",
       "      <td>996.330562</td>\n",
       "      <td>2</td>\n",
       "      <td>1</td>\n",
       "      <td>2</td>\n",
       "      <td>212</td>\n",
       "      <td>5</td>\n",
       "    </tr>\n",
       "    <tr>\n",
       "      <th>1</th>\n",
       "      <td>7428</td>\n",
       "      <td>51</td>\n",
       "      <td>1</td>\n",
       "      <td>560.000000</td>\n",
       "      <td>3</td>\n",
       "      <td>4</td>\n",
       "      <td>3</td>\n",
       "      <td>343</td>\n",
       "      <td>10</td>\n",
       "    </tr>\n",
       "    <tr>\n",
       "      <th>2</th>\n",
       "      <td>11777</td>\n",
       "      <td>14</td>\n",
       "      <td>5</td>\n",
       "      <td>2017.000000</td>\n",
       "      <td>1</td>\n",
       "      <td>1</td>\n",
       "      <td>1</td>\n",
       "      <td>111</td>\n",
       "      <td>3</td>\n",
       "    </tr>\n",
       "    <tr>\n",
       "      <th>3</th>\n",
       "      <td>17408</td>\n",
       "      <td>36</td>\n",
       "      <td>2</td>\n",
       "      <td>1460.000000</td>\n",
       "      <td>2</td>\n",
       "      <td>3</td>\n",
       "      <td>1</td>\n",
       "      <td>231</td>\n",
       "      <td>6</td>\n",
       "    </tr>\n",
       "    <tr>\n",
       "      <th>4</th>\n",
       "      <td>17411</td>\n",
       "      <td>110</td>\n",
       "      <td>3</td>\n",
       "      <td>2593.995171</td>\n",
       "      <td>3</td>\n",
       "      <td>2</td>\n",
       "      <td>1</td>\n",
       "      <td>321</td>\n",
       "      <td>6</td>\n",
       "    </tr>\n",
       "  </tbody>\n",
       "</table>\n",
       "</div>"
      ],
      "text/plain": [
       "   memberId  Recency  Frequency     Monetary  R_quartile  F_quartile  \\\n",
       "0      6661       15          4   996.330562           2           1   \n",
       "1      7428       51          1   560.000000           3           4   \n",
       "2     11777       14          5  2017.000000           1           1   \n",
       "3     17408       36          2  1460.000000           2           3   \n",
       "4     17411      110          3  2593.995171           3           2   \n",
       "\n",
       "   M_quartile RFM_Segment  RFM_Score  \n",
       "0           2         212          5  \n",
       "1           3         343         10  \n",
       "2           1         111          3  \n",
       "3           1         231          6  \n",
       "4           1         321          6  "
      ]
     },
     "execution_count": 287,
     "metadata": {},
     "output_type": "execute_result"
    }
   ],
   "source": [
    "segmented_rfm.head()"
   ]
  },
  {
   "cell_type": "code",
   "execution_count": 288,
   "metadata": {},
   "outputs": [
    {
     "name": "stdout",
     "output_type": "stream",
     "text": [
      "Best Customers:  279\n",
      "Loyal Customers:  755\n",
      "Big Spenders:  846\n",
      "Almost Lost:  29\n",
      "Lost Customers:  175\n",
      "Lost Cheap Customers:  289\n"
     ]
    }
   ],
   "source": [
    "print(\"Best Customers: \",len(segmented_rfm[segmented_rfm['RFM_Segment']=='111']))\n",
    "print('Loyal Customers: ',len(segmented_rfm[segmented_rfm['F_quartile']==1]))\n",
    "print(\"Big Spenders: \",len(segmented_rfm[segmented_rfm['M_quartile']==1]))\n",
    "print('Almost Lost: ', len(segmented_rfm[segmented_rfm['RFM_Segment']=='134']))\n",
    "print('Lost Customers: ',len(segmented_rfm[segmented_rfm['RFM_Segment']=='344']))\n",
    "print('Lost Cheap Customers: ',len(segmented_rfm[segmented_rfm['RFM_Segment']=='444']))"
   ]
  },
  {
   "cell_type": "code",
   "execution_count": 289,
   "metadata": {},
   "outputs": [],
   "source": [
    "# Setting up the label for each client and adding the column \"Label\" to the dataframe\n",
    "\n",
    "label = [0] * len(segmented_rfm)\n",
    "\n",
    "for i in range(0,len(segmented_rfm)):\n",
    "\n",
    "    if segmented_rfm['RFM_Segment'][i] == '111':\n",
    "        label[i] = \"Best Customers\"\n",
    "        \n",
    "    elif segmented_rfm['RFM_Segment'][i] == '134' :\n",
    "        label[i] = \"Almost Lost\"\n",
    "        \n",
    "    elif segmented_rfm['RFM_Segment'][i] == '344':\n",
    "        label[i] = \"Lost Customers\"\n",
    "    \n",
    "    elif segmented_rfm['RFM_Segment'][i] == '444':\n",
    "        label[i] = \"Lost Cheap Customers\"\n",
    "\n",
    "    elif segmented_rfm['F_quartile'][i] == 1:\n",
    "        label[i] = \"Loyal Customers\"  \n",
    "    \n",
    "    elif segmented_rfm['M_quartile'][i] == 1:\n",
    "        label[i] = \"Big Spenders\"   \n",
    "        \n",
    "    else:\n",
    "        label[i] = \"Others\""
   ]
  },
  {
   "cell_type": "code",
   "execution_count": 290,
   "metadata": {},
   "outputs": [],
   "source": [
    "# Adding the 'Label' column to our dataframe\n",
    "\n",
    "segmented_rfm['Label'] = label"
   ]
  },
  {
   "cell_type": "code",
   "execution_count": 291,
   "metadata": {},
   "outputs": [
    {
     "data": {
      "text/plain": [
       "Others                  1818\n",
       "Loyal Customers          476\n",
       "Big Spenders             317\n",
       "Lost Cheap Customers     289\n",
       "Best Customers           279\n",
       "Lost Customers           175\n",
       "Almost Lost               29\n",
       "Name: Label, dtype: int64"
      ]
     },
     "execution_count": 291,
     "metadata": {},
     "output_type": "execute_result"
    }
   ],
   "source": [
    "# Count the frequency that a value occurs in a dataframe column for the labels.\n",
    "\n",
    "segmented_rfm['Label'].value_counts()"
   ]
  },
  {
   "cell_type": "code",
   "execution_count": 292,
   "metadata": {},
   "outputs": [
    {
     "data": {
      "image/png": "[encoded data removed]",
      "text/plain": [
       "<Figure size 864x576 with 1 Axes>"
      ]
     },
     "metadata": {
      "needs_background": "light"
     },
     "output_type": "display_data"
    }
   ],
   "source": [
    "import seaborn as sns\n",
    "sq1=segmented_rfm.groupby('Label')['memberId'].nunique().sort_values(ascending=False).reset_index()\n",
    "plt.figure(figsize=(12,8))\n",
    "sq1.drop([0],inplace=True)\n",
    "sns.barplot(data=sq1, x=\"Label\", y=\"memberId\", palette = \"pink\");"
   ]
  },
  {
   "cell_type": "markdown",
   "metadata": {},
   "source": [
    "# Modeling Data: K-Means Clustering\n",
    "\n",
    "K-Means clustering algorithm is an unsupervised machine learning algorithm that uses multiple iterations to segment the unlabeled data points into K different clusters in a way such that each data point belongs to only a single group that has similar properties."
   ]
  },
  {
   "cell_type": "code",
   "execution_count": 293,
   "metadata": {},
   "outputs": [],
   "source": [
    "RFM_Table_New = RFM_Table.drop('memberId', axis=1)"
   ]
  },
  {
   "cell_type": "code",
   "execution_count": 294,
   "metadata": {},
   "outputs": [
    {
     "data": {
      "image/png": "[encoded data removed]",
      "text/plain": [
       "<Figure size 432x288 with 2 Axes>"
      ]
     },
     "metadata": {
      "needs_background": "light"
     },
     "output_type": "display_data"
    }
   ],
   "source": [
    "#Heatmap check\n",
    "sns.heatmap(RFM_Table_New.corr(), annot=True);"
   ]
  },
  {
   "cell_type": "code",
   "execution_count": 295,
   "metadata": {},
   "outputs": [
    {
     "data": {
      "text/plain": [
       "<AxesSubplot:xlabel='Recency'>"
      ]
     },
     "execution_count": 295,
     "metadata": {},
     "output_type": "execute_result"
    },
    {
     "data": {
      "image/png": "[encoded data removed]",
      "text/plain": [
       "<Figure size 432x288 with 1 Axes>"
      ]
     },
     "metadata": {
      "needs_background": "light"
     },
     "output_type": "display_data"
    }
   ],
   "source": [
    "#Analyze distribution\n",
    "\n",
    "sns.distplot(RFM_Table_New['Recency'])"
   ]
  },
  {
   "cell_type": "code",
   "execution_count": 296,
   "metadata": {},
   "outputs": [
    {
     "data": {
      "text/plain": [
       "<AxesSubplot:xlabel='Frequency'>"
      ]
     },
     "execution_count": 296,
     "metadata": {},
     "output_type": "execute_result"
    },
    {
     "data": {
      "image/png": "[encoded data removed]",
      "text/plain": [
       "<Figure size 432x288 with 1 Axes>"
      ]
     },
     "metadata": {
      "needs_background": "light"
     },
     "output_type": "display_data"
    }
   ],
   "source": [
    "sns.distplot(RFM_Table_New['Frequency'])"
   ]
  },
  {
   "cell_type": "code",
   "execution_count": 297,
   "metadata": {},
   "outputs": [
    {
     "data": {
      "text/plain": [
       "<AxesSubplot:xlabel='Monetary'>"
      ]
     },
     "execution_count": 297,
     "metadata": {},
     "output_type": "execute_result"
    },
    {
     "data": {
      "image/png": "[encoded data removed]",
      "text/plain": [
       "<Figure size 432x288 with 1 Axes>"
      ]
     },
     "metadata": {
      "needs_background": "light"
     },
     "output_type": "display_data"
    }
   ],
   "source": [
    "sns.distplot(RFM_Table_New['Monetary'])"
   ]
  },
  {
   "cell_type": "markdown",
   "metadata": {},
   "source": [
    "- K-means gives the best result under the following conditions:\n",
    "- Data’s distribution is not skewed.\n",
    "- Data is standardised."
   ]
  },
  {
   "cell_type": "markdown",
   "metadata": {},
   "source": [
    "The data is highly skewed,therefore we will perform log transformations to reduce the skewness of each variable. I added a small constant as log transformation demands all the values to be positive."
   ]
  },
  {
   "cell_type": "code",
   "execution_count": 298,
   "metadata": {},
   "outputs": [
    {
     "data": {
      "text/html": [
       "<div>\n",
       "<style scoped>\n",
       "    .dataframe tbody tr th:only-of-type {\n",
       "        vertical-align: middle;\n",
       "    }\n",
       "\n",
       "    .dataframe tbody tr th {\n",
       "        vertical-align: top;\n",
       "    }\n",
       "\n",
       "    .dataframe thead th {\n",
       "        text-align: right;\n",
       "    }\n",
       "</style>\n",
       "<table border=\"1\" class=\"dataframe\">\n",
       "  <thead>\n",
       "    <tr style=\"text-align: right;\">\n",
       "      <th></th>\n",
       "      <th>Recency</th>\n",
       "      <th>Frequency</th>\n",
       "      <th>Monetary</th>\n",
       "    </tr>\n",
       "  </thead>\n",
       "  <tbody>\n",
       "    <tr>\n",
       "      <th>0</th>\n",
       "      <td>15</td>\n",
       "      <td>4</td>\n",
       "      <td>996.330562</td>\n",
       "    </tr>\n",
       "    <tr>\n",
       "      <th>1</th>\n",
       "      <td>51</td>\n",
       "      <td>1</td>\n",
       "      <td>560.000000</td>\n",
       "    </tr>\n",
       "    <tr>\n",
       "      <th>2</th>\n",
       "      <td>14</td>\n",
       "      <td>5</td>\n",
       "      <td>2017.000000</td>\n",
       "    </tr>\n",
       "    <tr>\n",
       "      <th>3</th>\n",
       "      <td>36</td>\n",
       "      <td>2</td>\n",
       "      <td>1460.000000</td>\n",
       "    </tr>\n",
       "    <tr>\n",
       "      <th>4</th>\n",
       "      <td>110</td>\n",
       "      <td>3</td>\n",
       "      <td>2593.995171</td>\n",
       "    </tr>\n",
       "  </tbody>\n",
       "</table>\n",
       "</div>"
      ],
      "text/plain": [
       "   Recency  Frequency     Monetary\n",
       "0       15          4   996.330562\n",
       "1       51          1   560.000000\n",
       "2       14          5  2017.000000\n",
       "3       36          2  1460.000000\n",
       "4      110          3  2593.995171"
      ]
     },
     "execution_count": 298,
     "metadata": {},
     "output_type": "execute_result"
    }
   ],
   "source": [
    "df_rfm_log = RFM_Table_New.copy()\n",
    "df_rfm_log.head()"
   ]
  },
  {
   "cell_type": "code",
   "execution_count": 299,
   "metadata": {},
   "outputs": [],
   "source": [
    "df_rfm_log = np.log(df_rfm_log+1)"
   ]
  },
  {
   "cell_type": "code",
   "execution_count": 300,
   "metadata": {},
   "outputs": [
    {
     "data": {
      "text/plain": [
       "Winsorizer(fold=2, tail='both', variables=['Recency', 'Frequency', 'Monetary'])"
      ]
     },
     "execution_count": 300,
     "metadata": {},
     "output_type": "execute_result"
    }
   ],
   "source": [
    "windsoriser = Winsorizer(tail='both', # cap left, right or both tails \n",
    "                          fold=2,\n",
    "                           variables=[ 'Recency', 'Frequency', 'Monetary']\n",
    "                        )\n",
    "windsoriser.fit(df_rfm_log)"
   ]
  },
  {
   "cell_type": "code",
   "execution_count": 301,
   "metadata": {},
   "outputs": [],
   "source": [
    "df_rfm_log = windsoriser.transform(df_rfm_log)"
   ]
  },
  {
   "cell_type": "code",
   "execution_count": 302,
   "metadata": {},
   "outputs": [],
   "source": [
    "#Developing preprocessing with StandardScaler\n",
    "\n",
    "scaler = StandardScaler()\n",
    "\n",
    "scaler.fit(df_rfm_log)\n",
    "\n",
    "RFM_Table_New_scaled = scaler.transform(df_rfm_log)"
   ]
  },
  {
   "cell_type": "code",
   "execution_count": 303,
   "metadata": {},
   "outputs": [
    {
     "data": {
      "text/html": [
       "<div>\n",
       "<style scoped>\n",
       "    .dataframe tbody tr th:only-of-type {\n",
       "        vertical-align: middle;\n",
       "    }\n",
       "\n",
       "    .dataframe tbody tr th {\n",
       "        vertical-align: top;\n",
       "    }\n",
       "\n",
       "    .dataframe thead th {\n",
       "        text-align: right;\n",
       "    }\n",
       "</style>\n",
       "<table border=\"1\" class=\"dataframe\">\n",
       "  <thead>\n",
       "    <tr style=\"text-align: right;\">\n",
       "      <th></th>\n",
       "      <th>Recency</th>\n",
       "      <th>Frequency</th>\n",
       "      <th>Monetary</th>\n",
       "    </tr>\n",
       "  </thead>\n",
       "  <tbody>\n",
       "    <tr>\n",
       "      <th>0</th>\n",
       "      <td>-0.746884</td>\n",
       "      <td>0.988493</td>\n",
       "      <td>0.356621</td>\n",
       "    </tr>\n",
       "    <tr>\n",
       "      <th>1</th>\n",
       "      <td>0.264955</td>\n",
       "      <td>-0.926962</td>\n",
       "      <td>-0.167810</td>\n",
       "    </tr>\n",
       "    <tr>\n",
       "      <th>2</th>\n",
       "      <td>-0.802288</td>\n",
       "      <td>1.369626</td>\n",
       "      <td>0.999015</td>\n",
       "    </tr>\n",
       "    <tr>\n",
       "      <th>3</th>\n",
       "      <td>-0.027204</td>\n",
       "      <td>-0.079360</td>\n",
       "      <td>0.704620</td>\n",
       "    </tr>\n",
       "    <tr>\n",
       "      <th>4</th>\n",
       "      <td>0.915920</td>\n",
       "      <td>0.522024</td>\n",
       "      <td>1.228232</td>\n",
       "    </tr>\n",
       "  </tbody>\n",
       "</table>\n",
       "</div>"
      ],
      "text/plain": [
       "    Recency  Frequency  Monetary\n",
       "0 -0.746884   0.988493  0.356621\n",
       "1  0.264955  -0.926962 -0.167810\n",
       "2 -0.802288   1.369626  0.999015\n",
       "3 -0.027204  -0.079360  0.704620\n",
       "4  0.915920   0.522024  1.228232"
      ]
     },
     "execution_count": 303,
     "metadata": {},
     "output_type": "execute_result"
    }
   ],
   "source": [
    "RFM_Table_New_scaled = pd.DataFrame(RFM_Table_New_scaled, columns=RFM_Table_New.columns)\n",
    "RFM_Table_New_scaled.head()"
   ]
  },
  {
   "cell_type": "code",
   "execution_count": 304,
   "metadata": {},
   "outputs": [
    {
     "data": {
      "text/plain": [
       "<AxesSubplot:xlabel='Recency'>"
      ]
     },
     "execution_count": 304,
     "metadata": {},
     "output_type": "execute_result"
    },
    {
     "data": {
      "image/png": "[encoded data removed]",
      "text/plain": [
       "<Figure size 432x288 with 1 Axes>"
      ]
     },
     "metadata": {
      "needs_background": "light"
     },
     "output_type": "display_data"
    }
   ],
   "source": [
    "#Analyze distribution\n",
    "\n",
    "sns.distplot(RFM_Table_New_scaled['Recency'])"
   ]
  },
  {
   "cell_type": "code",
   "execution_count": 305,
   "metadata": {},
   "outputs": [
    {
     "data": {
      "text/plain": [
       "<AxesSubplot:xlabel='Frequency'>"
      ]
     },
     "execution_count": 305,
     "metadata": {},
     "output_type": "execute_result"
    },
    {
     "data": {
      "image/png": "[encoded data removed]",
      "text/plain": [
       "<Figure size 432x288 with 1 Axes>"
      ]
     },
     "metadata": {
      "needs_background": "light"
     },
     "output_type": "display_data"
    }
   ],
   "source": [
    "sns.distplot(RFM_Table_New_scaled['Frequency'])"
   ]
  },
  {
   "cell_type": "code",
   "execution_count": 306,
   "metadata": {},
   "outputs": [
    {
     "data": {
      "text/plain": [
       "<AxesSubplot:xlabel='Monetary'>"
      ]
     },
     "execution_count": 306,
     "metadata": {},
     "output_type": "execute_result"
    },
    {
     "data": {
      "image/png": "[encoded data removed]",
      "text/plain": [
       "<Figure size 432x288 with 1 Axes>"
      ]
     },
     "metadata": {
      "needs_background": "light"
     },
     "output_type": "display_data"
    }
   ],
   "source": [
    "sns.distplot(RFM_Table_New_scaled['Monetary'])"
   ]
  },
  {
   "cell_type": "code",
   "execution_count": 307,
   "metadata": {},
   "outputs": [],
   "source": [
    "X = np.asarray(RFM_Table_New_scaled)"
   ]
  },
  {
   "cell_type": "code",
   "execution_count": 308,
   "metadata": {},
   "outputs": [
    {
     "data": {
      "image/png": "[encoded data removed]",
      "text/plain": [
       "<Figure size 432x288 with 1 Axes>"
      ]
     },
     "metadata": {
      "needs_background": "light"
     },
     "output_type": "display_data"
    }
   ],
   "source": [
    "Sum_of_squared_distances = []\n",
    "K = range(1,16)\n",
    "for k in K:\n",
    "    km = KMeans(n_clusters=k)\n",
    "    km = km.fit(X)\n",
    "    Sum_of_squared_distances.append(km.inertia_)\n",
    "\n",
    "plt.plot(K, Sum_of_squared_distances, 'bx-')\n",
    "plt.xlabel('k')\n",
    "plt.ylabel('Sum_of_squared_distances')\n",
    "plt.title('Elbow Method For Optimal k')\n",
    "plt.show()"
   ]
  },
  {
   "cell_type": "code",
   "execution_count": 309,
   "metadata": {},
   "outputs": [],
   "source": [
    "def kmeans(normalised_df_rfm, clusters_number, original_df_rfm):\n",
    "    \n",
    "    kmeans = KMeans(n_clusters = clusters_number, random_state = 1)\n",
    "    kmeans.fit(normalised_df_rfm)\n",
    "\n",
    "    # Extract cluster labels\n",
    "    cluster_labels = kmeans.labels_\n",
    "        \n",
    "    # Create a cluster label column in original dataset\n",
    "    df_new = original_df_rfm.assign(Cluster = cluster_labels)\n",
    "    \n",
    "    # Initialise TSNE\n",
    "    model = TSNE(random_state=1)\n",
    "    transformed = model.fit_transform(df_new)\n",
    "    \n",
    "    # Plot t-SNE\n",
    "    plt.title('Flattened Graph of {} Clusters'.format(clusters_number))\n",
    "    sns.scatterplot(x=transformed[:,0], y=transformed[:,1], hue=cluster_labels, style=cluster_labels, palette=\"Set1\")\n",
    "    \n",
    "    return df_new"
   ]
  },
  {
   "cell_type": "code",
   "execution_count": 310,
   "metadata": {},
   "outputs": [
    {
     "data": {
      "image/png": "[encoded data removed]",
      "text/plain": [
       "<Figure size 720x720 with 3 Axes>"
      ]
     },
     "metadata": {
      "needs_background": "light"
     },
     "output_type": "display_data"
    }
   ],
   "source": [
    "plt.figure(figsize=(10, 10))\n",
    "\n",
    "plt.subplot(3, 1, 1)\n",
    "df_rfm_k3 = kmeans(RFM_Table_New_scaled, 3, RFM_Table)\n",
    "\n",
    "plt.subplot(3, 1, 2)\n",
    "df_rfm_k4 = kmeans(RFM_Table_New_scaled, 4, RFM_Table)\n",
    "\n",
    "plt.subplot(3, 1, 3)\n",
    "df_rfm_k5 = kmeans(RFM_Table_New_scaled, 5, RFM_Table)\n",
    "\n",
    "plt.tight_layout()\n"
   ]
  },
  {
   "cell_type": "code",
   "execution_count": 311,
   "metadata": {},
   "outputs": [],
   "source": [
    "def snake_plot(normalised_df_rfm, df_rfm_kmeans, df_rfm_original):\n",
    "\n",
    "    normalised_df_rfm = pd.DataFrame(normalised_df_rfm, \n",
    "                                       index=RFM_Table.index, \n",
    "                                       columns=RFM_Table.columns)\n",
    "    normalised_df_rfm['Cluster'] = df_rfm_kmeans['Cluster']\n",
    "\n",
    "    # Melt data into long format\n",
    "    df_melt = pd.melt(normalised_df_rfm.reset_index(), \n",
    "                        id_vars=['memberId', 'Cluster'],\n",
    "                        value_vars=['Recency', 'Frequency', 'Monetary'], \n",
    "                        var_name='Metric', \n",
    "                        value_name='Value')\n",
    "\n",
    "    plt.xlabel('Metric')\n",
    "    plt.ylabel('Value')\n",
    "    sns.pointplot(data=df_melt, x='Metric', y='Value', hue='Cluster')\n",
    "    \n",
    "    return"
   ]
  },
  {
   "cell_type": "code",
   "execution_count": 312,
   "metadata": {},
   "outputs": [
    {
     "data": {
      "image/png": "[encoded data removed]",
      "text/plain": [
       "<Figure size 648x648 with 3 Axes>"
      ]
     },
     "metadata": {
      "needs_background": "light"
     },
     "output_type": "display_data"
    }
   ],
   "source": [
    "plt.figure(figsize=(9, 9))\n",
    "\n",
    "plt.subplot(3, 1, 1)\n",
    "plt.title('Snake Plot of K-Means = 3')\n",
    "snake_plot(RFM_Table_New_scaled, df_rfm_k3, RFM_Table)\n",
    "\n",
    "plt.subplot(3, 1, 2)\n",
    "plt.title('Snake Plot of K-Means = 4')\n",
    "snake_plot(RFM_Table_New_scaled, df_rfm_k4, RFM_Table)\n",
    "\n",
    "plt.subplot(3, 1, 3)\n",
    "plt.title('Snake Plot of K-Means = 5')\n",
    "snake_plot(RFM_Table_New_scaled, df_rfm_k5, RFM_Table)\n",
    "\n",
    "plt.tight_layout()"
   ]
  },
  {
   "cell_type": "markdown",
   "metadata": {},
   "source": [
    "# Evaluating Model: K-Means Clustering\n",
    "\n",
    "Davies Bouldin Score is a metric for evaluating clustering algorithms.\n",
    "The smaller Davies Bouldin Score is The more optimal the cluster.\n"
   ]
  },
  {
   "cell_type": "markdown",
   "metadata": {},
   "source": [
    "K-Means = 3"
   ]
  },
  {
   "cell_type": "code",
   "execution_count": 313,
   "metadata": {},
   "outputs": [
    {
     "data": {
      "text/plain": [
       "KMeans(n_clusters=3)"
      ]
     },
     "execution_count": 313,
     "metadata": {},
     "output_type": "execute_result"
    }
   ],
   "source": [
    "kmeans = KMeans(n_clusters=3)\n",
    "kmeans.fit(X)"
   ]
  },
  {
   "cell_type": "code",
   "execution_count": 314,
   "metadata": {},
   "outputs": [
    {
     "name": "stdout",
     "output_type": "stream",
     "text": [
      "1.0277223117036776\n"
     ]
    }
   ],
   "source": [
    "print(davies_bouldin_score(X, kmeans.labels_))"
   ]
  },
  {
   "cell_type": "markdown",
   "metadata": {},
   "source": [
    "K-Means = 4"
   ]
  },
  {
   "cell_type": "code",
   "execution_count": 315,
   "metadata": {},
   "outputs": [
    {
     "data": {
      "text/plain": [
       "KMeans(n_clusters=4)"
      ]
     },
     "execution_count": 315,
     "metadata": {},
     "output_type": "execute_result"
    }
   ],
   "source": [
    "kmeans = KMeans(n_clusters=4)\n",
    "kmeans.fit(X)"
   ]
  },
  {
   "cell_type": "code",
   "execution_count": 316,
   "metadata": {},
   "outputs": [
    {
     "name": "stdout",
     "output_type": "stream",
     "text": [
      "0.9073754284182016\n"
     ]
    }
   ],
   "source": [
    "print(davies_bouldin_score(X, kmeans.labels_))"
   ]
  },
  {
   "cell_type": "markdown",
   "metadata": {},
   "source": [
    "K-Means = 5"
   ]
  },
  {
   "cell_type": "code",
   "execution_count": 317,
   "metadata": {},
   "outputs": [
    {
     "data": {
      "text/plain": [
       "KMeans(n_clusters=5)"
      ]
     },
     "execution_count": 317,
     "metadata": {},
     "output_type": "execute_result"
    }
   ],
   "source": [
    "kmeans = KMeans(n_clusters=5)\n",
    "kmeans.fit(X)"
   ]
  },
  {
   "cell_type": "code",
   "execution_count": 318,
   "metadata": {},
   "outputs": [
    {
     "name": "stdout",
     "output_type": "stream",
     "text": [
      "0.9910430889153634\n"
     ]
    }
   ],
   "source": [
    "print(davies_bouldin_score(X, kmeans.labels_))"
   ]
  },
  {
   "cell_type": "markdown",
   "metadata": {},
   "source": [
    "K-Means 4 clusters has lowest davies bouldin score than other cluster. Therefore the optimum cluster is 4."
   ]
  },
  {
   "cell_type": "code",
   "execution_count": 319,
   "metadata": {},
   "outputs": [
    {
     "data": {
      "text/html": [
       "<div>\n",
       "<style scoped>\n",
       "    .dataframe tbody tr th:only-of-type {\n",
       "        vertical-align: middle;\n",
       "    }\n",
       "\n",
       "    .dataframe tbody tr th {\n",
       "        vertical-align: top;\n",
       "    }\n",
       "\n",
       "    .dataframe thead th {\n",
       "        text-align: right;\n",
       "    }\n",
       "</style>\n",
       "<table border=\"1\" class=\"dataframe\">\n",
       "  <thead>\n",
       "    <tr style=\"text-align: right;\">\n",
       "      <th></th>\n",
       "      <th>memberId</th>\n",
       "      <th>Recency</th>\n",
       "      <th>Frequency</th>\n",
       "      <th>Monetary</th>\n",
       "      <th>Cluster</th>\n",
       "    </tr>\n",
       "  </thead>\n",
       "  <tbody>\n",
       "    <tr>\n",
       "      <th>0</th>\n",
       "      <td>6661</td>\n",
       "      <td>15</td>\n",
       "      <td>4</td>\n",
       "      <td>996.330562</td>\n",
       "      <td>3</td>\n",
       "    </tr>\n",
       "    <tr>\n",
       "      <th>1</th>\n",
       "      <td>7428</td>\n",
       "      <td>51</td>\n",
       "      <td>1</td>\n",
       "      <td>560.000000</td>\n",
       "      <td>1</td>\n",
       "    </tr>\n",
       "    <tr>\n",
       "      <th>2</th>\n",
       "      <td>11777</td>\n",
       "      <td>14</td>\n",
       "      <td>5</td>\n",
       "      <td>2017.000000</td>\n",
       "      <td>3</td>\n",
       "    </tr>\n",
       "    <tr>\n",
       "      <th>3</th>\n",
       "      <td>17408</td>\n",
       "      <td>36</td>\n",
       "      <td>2</td>\n",
       "      <td>1460.000000</td>\n",
       "      <td>2</td>\n",
       "    </tr>\n",
       "    <tr>\n",
       "      <th>4</th>\n",
       "      <td>17411</td>\n",
       "      <td>110</td>\n",
       "      <td>3</td>\n",
       "      <td>2593.995171</td>\n",
       "      <td>2</td>\n",
       "    </tr>\n",
       "  </tbody>\n",
       "</table>\n",
       "</div>"
      ],
      "text/plain": [
       "   memberId  Recency  Frequency     Monetary  Cluster\n",
       "0      6661       15          4   996.330562        3\n",
       "1      7428       51          1   560.000000        1\n",
       "2     11777       14          5  2017.000000        3\n",
       "3     17408       36          2  1460.000000        2\n",
       "4     17411      110          3  2593.995171        2"
      ]
     },
     "execution_count": 319,
     "metadata": {},
     "output_type": "execute_result"
    }
   ],
   "source": [
    "df_rfm_k4.head()"
   ]
  },
  {
   "cell_type": "code",
   "execution_count": 320,
   "metadata": {},
   "outputs": [
    {
     "data": {
      "text/plain": [
       "1    1153\n",
       "2     789\n",
       "0     786\n",
       "3     655\n",
       "Name: Cluster, dtype: int64"
      ]
     },
     "execution_count": 320,
     "metadata": {},
     "output_type": "execute_result"
    }
   ],
   "source": [
    "df_rfm_k4.Cluster.value_counts()"
   ]
  },
  {
   "cell_type": "code",
   "execution_count": 321,
   "metadata": {},
   "outputs": [
    {
     "data": {
      "image/png": "[encoded data removed]",
      "text/plain": [
       "<Figure size 864x576 with 1 Axes>"
      ]
     },
     "metadata": {
      "needs_background": "light"
     },
     "output_type": "display_data"
    }
   ],
   "source": [
    "import seaborn as sns\n",
    "sq1=df_rfm_k4.groupby('Cluster')['memberId'].nunique().sort_values(ascending=False).reset_index()\n",
    "plt.figure(figsize=(12,8))\n",
    "sns.barplot(data=sq1, x=\"Cluster\", y=\"memberId\", palette = \"Greens_d\");"
   ]
  },
  {
   "cell_type": "markdown",
   "metadata": {},
   "source": [
    "Interpretation of the clusters formed using k-means."
   ]
  },
  {
   "cell_type": "code",
   "execution_count": 322,
   "metadata": {},
   "outputs": [],
   "source": [
    "def rfm_values(df):\n",
    "\n",
    "    df_new = df.groupby(['Cluster']).agg({\n",
    "        'Recency': 'mean',\n",
    "        'Frequency': 'mean',\n",
    "        'Monetary': ['mean', 'count']\n",
    "    }).round(0)\n",
    "    \n",
    "    return df_new"
   ]
  },
  {
   "cell_type": "code",
   "execution_count": 323,
   "metadata": {},
   "outputs": [
    {
     "data": {
      "text/html": [
       "<div>\n",
       "<style scoped>\n",
       "    .dataframe tbody tr th:only-of-type {\n",
       "        vertical-align: middle;\n",
       "    }\n",
       "\n",
       "    .dataframe tbody tr th {\n",
       "        vertical-align: top;\n",
       "    }\n",
       "\n",
       "    .dataframe thead tr th {\n",
       "        text-align: left;\n",
       "    }\n",
       "\n",
       "    .dataframe thead tr:last-of-type th {\n",
       "        text-align: right;\n",
       "    }\n",
       "</style>\n",
       "<table border=\"1\" class=\"dataframe\">\n",
       "  <thead>\n",
       "    <tr>\n",
       "      <th></th>\n",
       "      <th>Recency</th>\n",
       "      <th>Frequency</th>\n",
       "      <th colspan=\"2\" halign=\"left\">Monetary</th>\n",
       "    </tr>\n",
       "    <tr>\n",
       "      <th></th>\n",
       "      <th>mean</th>\n",
       "      <th>mean</th>\n",
       "      <th>mean</th>\n",
       "      <th>count</th>\n",
       "    </tr>\n",
       "    <tr>\n",
       "      <th>Cluster</th>\n",
       "      <th></th>\n",
       "      <th></th>\n",
       "      <th></th>\n",
       "      <th></th>\n",
       "    </tr>\n",
       "  </thead>\n",
       "  <tbody>\n",
       "    <tr>\n",
       "      <th>0</th>\n",
       "      <td>13.0</td>\n",
       "      <td>2.0</td>\n",
       "      <td>580.0</td>\n",
       "      <td>786</td>\n",
       "    </tr>\n",
       "    <tr>\n",
       "      <th>1</th>\n",
       "      <td>107.0</td>\n",
       "      <td>1.0</td>\n",
       "      <td>340.0</td>\n",
       "      <td>1153</td>\n",
       "    </tr>\n",
       "    <tr>\n",
       "      <th>2</th>\n",
       "      <td>88.0</td>\n",
       "      <td>3.0</td>\n",
       "      <td>1522.0</td>\n",
       "      <td>789</td>\n",
       "    </tr>\n",
       "    <tr>\n",
       "      <th>3</th>\n",
       "      <td>15.0</td>\n",
       "      <td>7.0</td>\n",
       "      <td>3673.0</td>\n",
       "      <td>655</td>\n",
       "    </tr>\n",
       "  </tbody>\n",
       "</table>\n",
       "</div>"
      ],
      "text/plain": [
       "        Recency Frequency Monetary      \n",
       "           mean      mean     mean count\n",
       "Cluster                                 \n",
       "0          13.0       2.0    580.0   786\n",
       "1         107.0       1.0    340.0  1153\n",
       "2          88.0       3.0   1522.0   789\n",
       "3          15.0       7.0   3673.0   655"
      ]
     },
     "execution_count": 323,
     "metadata": {},
     "output_type": "execute_result"
    }
   ],
   "source": [
    "rfm_values(df_rfm_k4)"
   ]
  },
  {
   "cell_type": "markdown",
   "metadata": {},
   "source": [
    "- \"Cluster 0\" has 23% customers. It belongs to the \"Loyal Customers\" segment as they Haven’t purchased for some time, but used to purchase frequently (F=2) and spent a lot. (R=3, F=2, M=2)\n",
    "\n",
    "- \"Cluster 1\" has 34% customers. It can be interpreted as \"Alomost Lost\". They purchase recently (R=2). However they do not purchase frequently and do not spent a lot. (R=2, F=3, M=3)\n",
    "\n",
    "- \"Cluster 2\" has 23% customers. It can be interpreted as \"Lost Cheap Customers\". Their last purchase is long ago (R=4), purchased very few (F=4) and spent little (M=4). (R=4, F=4, M=4)\n",
    "\n",
    "- \"Cluster 3\" has 19% customers. It belongs to the \"Best Customers\" segment which we saw earlier as they purchase recently (R=1), frequent buyers (F=1), and spent the most (M=1). (R=1, F=1, M=1)"
   ]
  },
  {
   "cell_type": "code",
   "execution_count": null,
   "metadata": {},
   "outputs": [],
   "source": []
  }
 ],
 "metadata": {
  "interpreter": {
   "hash": "388c0afa2407ef62b2c90a5ac416999b1930bb62681b76c0addc07ff6c28dc99"
  },
  "kernelspec": {
   "display_name": "Python 3.6.13 ('spotify')",
   "language": "python",
   "name": "python3"
  },
  "language_info": {
   "codemirror_mode": {
    "name": "ipython",
    "version": 3
   },
   "file_extension": ".py",
   "mimetype": "text/x-python",
   "name": "python",
   "nbconvert_exporter": "python",
   "pygments_lexer": "ipython3",
   "version": "3.8.10"
  },
  "orig_nbformat": 4
 },
 "nbformat": 4,
 "nbformat_minor": 2
}
